{
 "cells": [
  {
   "cell_type": "markdown",
   "id": "e7539dd9",
   "metadata": {
    "papermill": {
     "duration": 0.012248,
     "end_time": "2023-06-24T15:13:43.812078",
     "exception": false,
     "start_time": "2023-06-24T15:13:43.799830",
     "status": "completed"
    },
    "tags": []
   },
   "source": [
    "## Introduction\n"
   ]
  },
  {
   "cell_type": "markdown",
   "id": "a15a485d",
   "metadata": {
    "papermill": {
     "duration": 0.009082,
     "end_time": "2023-06-24T15:13:43.831051",
     "exception": false,
     "start_time": "2023-06-24T15:13:43.821969",
     "status": "completed"
    },
    "tags": []
   },
   "source": [
    "This project was created for the final project of the Indroduction to Deep Learning for the CU Boulder MSEE course. Welcome to the Spaceship Titanic Kaggle project, an exciting data challenge that invites you to explore the world of deep learning and the utilization of the Keras library. In this project, we embark on a journey to predict the survival of passengers aboard the infamous spaceship Titanic. By leveraging the power of deep learning algorithms and the flexibility of Keras, we aim to uncover patterns and relationships hidden within the dataset that can help us understand the factors influencing survival outcomes. With a rich collection of passenger attributes such as age, gender, ticket class, and more, we delve into the realm of artificial intelligence to build a predictive model capable of accurately forecasting passenger survival. Through data preprocessing, exploratory data analysis, model development, and iterative optimization, we strive to create a robust solution that can contribute to our understanding of this historic event. So, fasten your seatbelts and prepare to embark on an exhilarating voyage through deep learning and Keras as we navigate the mysteries of the Spaceship Titanic dataset."
   ]
  },
  {
   "cell_type": "code",
   "execution_count": 1,
   "id": "8daf9fc4",
   "metadata": {
    "execution": {
     "iopub.execute_input": "2023-06-24T15:13:43.852060Z",
     "iopub.status.busy": "2023-06-24T15:13:43.851686Z",
     "iopub.status.idle": "2023-06-24T15:13:55.696772Z",
     "shell.execute_reply": "2023-06-24T15:13:55.695652Z"
    },
    "papermill": {
     "duration": 11.858711,
     "end_time": "2023-06-24T15:13:55.699658",
     "exception": false,
     "start_time": "2023-06-24T15:13:43.840947",
     "status": "completed"
    },
    "tags": []
   },
   "outputs": [
    {
     "name": "stderr",
     "output_type": "stream",
     "text": [
      "/opt/conda/lib/python3.10/site-packages/tensorflow_io/python/ops/__init__.py:98: UserWarning: unable to load libtensorflow_io_plugins.so: unable to open file: libtensorflow_io_plugins.so, from paths: ['/opt/conda/lib/python3.10/site-packages/tensorflow_io/python/ops/libtensorflow_io_plugins.so']\n",
      "caused by: ['/opt/conda/lib/python3.10/site-packages/tensorflow_io/python/ops/libtensorflow_io_plugins.so: undefined symbol: _ZN3tsl6StatusC1EN10tensorflow5error4CodeESt17basic_string_viewIcSt11char_traitsIcEENS_14SourceLocationE']\n",
      "  warnings.warn(f\"unable to load libtensorflow_io_plugins.so: {e}\")\n",
      "/opt/conda/lib/python3.10/site-packages/tensorflow_io/python/ops/__init__.py:104: UserWarning: file system plugins are not loaded: unable to open file: libtensorflow_io.so, from paths: ['/opt/conda/lib/python3.10/site-packages/tensorflow_io/python/ops/libtensorflow_io.so']\n",
      "caused by: ['/opt/conda/lib/python3.10/site-packages/tensorflow_io/python/ops/libtensorflow_io.so: undefined symbol: _ZTVN10tensorflow13GcsFileSystemE']\n",
      "  warnings.warn(f\"file system plugins are not loaded: {e}\")\n"
     ]
    }
   ],
   "source": [
    "#Code from the spaceship titanic starter notebook\n",
    "\n",
    "import tensorflow as tf\n",
    "import tensorflow_decision_forests as tfdf\n",
    "import pandas as pd\n",
    "import numpy as np\n",
    "import seaborn as sns\n",
    "import matplotlib.pyplot as plt"
   ]
  },
  {
   "cell_type": "markdown",
   "id": "69237499",
   "metadata": {
    "papermill": {
     "duration": 0.009386,
     "end_time": "2023-06-24T15:13:55.719183",
     "exception": false,
     "start_time": "2023-06-24T15:13:55.709797",
     "status": "completed"
    },
    "tags": []
   },
   "source": [
    "## EDA\n",
    "This first section of the report is an analysis of the data itself, as we can see from the below, there are 14 different items available in this data set for us to analyze, passenger ID and name were deemed to not likely impact the overall results of whether or not the passenger will be sent to another dimension leaving us with 12 total factors to analyze. We can see that roughly 50% of the passengers are sent to another dimension and 50% are not which gives us a good sample size of positive and negative results. We can also see that there are various missing values which will need to be cleaned before we can finish our analysis. This is combined with the fact that many of the datasets are non-numeric which will prove problimatic if we do not clean up the data so that all factors can be used in the final analysis. from the histograms, we can see that there is a large variety in the numeric values of each factor indicating that there is hopefully enough varience that our data mode lcan dig into for our analysis.\n",
    "\n"
   ]
  },
  {
   "cell_type": "code",
   "execution_count": 2,
   "id": "72ff5bb3",
   "metadata": {
    "execution": {
     "iopub.execute_input": "2023-06-24T15:13:55.741461Z",
     "iopub.status.busy": "2023-06-24T15:13:55.740602Z",
     "iopub.status.idle": "2023-06-24T15:13:55.855363Z",
     "shell.execute_reply": "2023-06-24T15:13:55.854446Z"
    },
    "papermill": {
     "duration": 0.128721,
     "end_time": "2023-06-24T15:13:55.857621",
     "exception": false,
     "start_time": "2023-06-24T15:13:55.728900",
     "status": "completed"
    },
    "tags": []
   },
   "outputs": [
    {
     "data": {
      "text/html": [
       "<div>\n",
       "<style scoped>\n",
       "    .dataframe tbody tr th:only-of-type {\n",
       "        vertical-align: middle;\n",
       "    }\n",
       "\n",
       "    .dataframe tbody tr th {\n",
       "        vertical-align: top;\n",
       "    }\n",
       "\n",
       "    .dataframe thead th {\n",
       "        text-align: right;\n",
       "    }\n",
       "</style>\n",
       "<table border=\"1\" class=\"dataframe\">\n",
       "  <thead>\n",
       "    <tr style=\"text-align: right;\">\n",
       "      <th></th>\n",
       "      <th>PassengerId</th>\n",
       "      <th>HomePlanet</th>\n",
       "      <th>CryoSleep</th>\n",
       "      <th>Cabin</th>\n",
       "      <th>Destination</th>\n",
       "      <th>Age</th>\n",
       "      <th>VIP</th>\n",
       "      <th>RoomService</th>\n",
       "      <th>FoodCourt</th>\n",
       "      <th>ShoppingMall</th>\n",
       "      <th>Spa</th>\n",
       "      <th>VRDeck</th>\n",
       "      <th>Name</th>\n",
       "      <th>Transported</th>\n",
       "    </tr>\n",
       "  </thead>\n",
       "  <tbody>\n",
       "    <tr>\n",
       "      <th>0</th>\n",
       "      <td>0001_01</td>\n",
       "      <td>Europa</td>\n",
       "      <td>False</td>\n",
       "      <td>B/0/P</td>\n",
       "      <td>TRAPPIST-1e</td>\n",
       "      <td>39.0</td>\n",
       "      <td>False</td>\n",
       "      <td>0.0</td>\n",
       "      <td>0.0</td>\n",
       "      <td>0.0</td>\n",
       "      <td>0.0</td>\n",
       "      <td>0.0</td>\n",
       "      <td>Maham Ofracculy</td>\n",
       "      <td>False</td>\n",
       "    </tr>\n",
       "    <tr>\n",
       "      <th>1</th>\n",
       "      <td>0002_01</td>\n",
       "      <td>Earth</td>\n",
       "      <td>False</td>\n",
       "      <td>F/0/S</td>\n",
       "      <td>TRAPPIST-1e</td>\n",
       "      <td>24.0</td>\n",
       "      <td>False</td>\n",
       "      <td>109.0</td>\n",
       "      <td>9.0</td>\n",
       "      <td>25.0</td>\n",
       "      <td>549.0</td>\n",
       "      <td>44.0</td>\n",
       "      <td>Juanna Vines</td>\n",
       "      <td>True</td>\n",
       "    </tr>\n",
       "    <tr>\n",
       "      <th>2</th>\n",
       "      <td>0003_01</td>\n",
       "      <td>Europa</td>\n",
       "      <td>False</td>\n",
       "      <td>A/0/S</td>\n",
       "      <td>TRAPPIST-1e</td>\n",
       "      <td>58.0</td>\n",
       "      <td>True</td>\n",
       "      <td>43.0</td>\n",
       "      <td>3576.0</td>\n",
       "      <td>0.0</td>\n",
       "      <td>6715.0</td>\n",
       "      <td>49.0</td>\n",
       "      <td>Altark Susent</td>\n",
       "      <td>False</td>\n",
       "    </tr>\n",
       "    <tr>\n",
       "      <th>3</th>\n",
       "      <td>0003_02</td>\n",
       "      <td>Europa</td>\n",
       "      <td>False</td>\n",
       "      <td>A/0/S</td>\n",
       "      <td>TRAPPIST-1e</td>\n",
       "      <td>33.0</td>\n",
       "      <td>False</td>\n",
       "      <td>0.0</td>\n",
       "      <td>1283.0</td>\n",
       "      <td>371.0</td>\n",
       "      <td>3329.0</td>\n",
       "      <td>193.0</td>\n",
       "      <td>Solam Susent</td>\n",
       "      <td>False</td>\n",
       "    </tr>\n",
       "    <tr>\n",
       "      <th>4</th>\n",
       "      <td>0004_01</td>\n",
       "      <td>Earth</td>\n",
       "      <td>False</td>\n",
       "      <td>F/1/S</td>\n",
       "      <td>TRAPPIST-1e</td>\n",
       "      <td>16.0</td>\n",
       "      <td>False</td>\n",
       "      <td>303.0</td>\n",
       "      <td>70.0</td>\n",
       "      <td>151.0</td>\n",
       "      <td>565.0</td>\n",
       "      <td>2.0</td>\n",
       "      <td>Willy Santantines</td>\n",
       "      <td>True</td>\n",
       "    </tr>\n",
       "    <tr>\n",
       "      <th>5</th>\n",
       "      <td>0005_01</td>\n",
       "      <td>Earth</td>\n",
       "      <td>False</td>\n",
       "      <td>F/0/P</td>\n",
       "      <td>PSO J318.5-22</td>\n",
       "      <td>44.0</td>\n",
       "      <td>False</td>\n",
       "      <td>0.0</td>\n",
       "      <td>483.0</td>\n",
       "      <td>0.0</td>\n",
       "      <td>291.0</td>\n",
       "      <td>0.0</td>\n",
       "      <td>Sandie Hinetthews</td>\n",
       "      <td>True</td>\n",
       "    </tr>\n",
       "    <tr>\n",
       "      <th>6</th>\n",
       "      <td>0006_01</td>\n",
       "      <td>Earth</td>\n",
       "      <td>False</td>\n",
       "      <td>F/2/S</td>\n",
       "      <td>TRAPPIST-1e</td>\n",
       "      <td>26.0</td>\n",
       "      <td>False</td>\n",
       "      <td>42.0</td>\n",
       "      <td>1539.0</td>\n",
       "      <td>3.0</td>\n",
       "      <td>0.0</td>\n",
       "      <td>0.0</td>\n",
       "      <td>Billex Jacostaffey</td>\n",
       "      <td>True</td>\n",
       "    </tr>\n",
       "    <tr>\n",
       "      <th>7</th>\n",
       "      <td>0006_02</td>\n",
       "      <td>Earth</td>\n",
       "      <td>True</td>\n",
       "      <td>G/0/S</td>\n",
       "      <td>TRAPPIST-1e</td>\n",
       "      <td>28.0</td>\n",
       "      <td>False</td>\n",
       "      <td>0.0</td>\n",
       "      <td>0.0</td>\n",
       "      <td>0.0</td>\n",
       "      <td>0.0</td>\n",
       "      <td>NaN</td>\n",
       "      <td>Candra Jacostaffey</td>\n",
       "      <td>True</td>\n",
       "    </tr>\n",
       "    <tr>\n",
       "      <th>8</th>\n",
       "      <td>0007_01</td>\n",
       "      <td>Earth</td>\n",
       "      <td>False</td>\n",
       "      <td>F/3/S</td>\n",
       "      <td>TRAPPIST-1e</td>\n",
       "      <td>35.0</td>\n",
       "      <td>False</td>\n",
       "      <td>0.0</td>\n",
       "      <td>785.0</td>\n",
       "      <td>17.0</td>\n",
       "      <td>216.0</td>\n",
       "      <td>0.0</td>\n",
       "      <td>Andona Beston</td>\n",
       "      <td>True</td>\n",
       "    </tr>\n",
       "    <tr>\n",
       "      <th>9</th>\n",
       "      <td>0008_01</td>\n",
       "      <td>Europa</td>\n",
       "      <td>True</td>\n",
       "      <td>B/1/P</td>\n",
       "      <td>55 Cancri e</td>\n",
       "      <td>14.0</td>\n",
       "      <td>False</td>\n",
       "      <td>0.0</td>\n",
       "      <td>0.0</td>\n",
       "      <td>0.0</td>\n",
       "      <td>0.0</td>\n",
       "      <td>0.0</td>\n",
       "      <td>Erraiam Flatic</td>\n",
       "      <td>True</td>\n",
       "    </tr>\n",
       "  </tbody>\n",
       "</table>\n",
       "</div>"
      ],
      "text/plain": [
       "  PassengerId HomePlanet CryoSleep  Cabin    Destination   Age    VIP  \\\n",
       "0     0001_01     Europa     False  B/0/P    TRAPPIST-1e  39.0  False   \n",
       "1     0002_01      Earth     False  F/0/S    TRAPPIST-1e  24.0  False   \n",
       "2     0003_01     Europa     False  A/0/S    TRAPPIST-1e  58.0   True   \n",
       "3     0003_02     Europa     False  A/0/S    TRAPPIST-1e  33.0  False   \n",
       "4     0004_01      Earth     False  F/1/S    TRAPPIST-1e  16.0  False   \n",
       "5     0005_01      Earth     False  F/0/P  PSO J318.5-22  44.0  False   \n",
       "6     0006_01      Earth     False  F/2/S    TRAPPIST-1e  26.0  False   \n",
       "7     0006_02      Earth      True  G/0/S    TRAPPIST-1e  28.0  False   \n",
       "8     0007_01      Earth     False  F/3/S    TRAPPIST-1e  35.0  False   \n",
       "9     0008_01     Europa      True  B/1/P    55 Cancri e  14.0  False   \n",
       "\n",
       "   RoomService  FoodCourt  ShoppingMall     Spa  VRDeck                Name  \\\n",
       "0          0.0        0.0           0.0     0.0     0.0     Maham Ofracculy   \n",
       "1        109.0        9.0          25.0   549.0    44.0        Juanna Vines   \n",
       "2         43.0     3576.0           0.0  6715.0    49.0       Altark Susent   \n",
       "3          0.0     1283.0         371.0  3329.0   193.0        Solam Susent   \n",
       "4        303.0       70.0         151.0   565.0     2.0   Willy Santantines   \n",
       "5          0.0      483.0           0.0   291.0     0.0   Sandie Hinetthews   \n",
       "6         42.0     1539.0           3.0     0.0     0.0  Billex Jacostaffey   \n",
       "7          0.0        0.0           0.0     0.0     NaN  Candra Jacostaffey   \n",
       "8          0.0      785.0          17.0   216.0     0.0       Andona Beston   \n",
       "9          0.0        0.0           0.0     0.0     0.0      Erraiam Flatic   \n",
       "\n",
       "   Transported  \n",
       "0        False  \n",
       "1         True  \n",
       "2        False  \n",
       "3        False  \n",
       "4         True  \n",
       "5         True  \n",
       "6         True  \n",
       "7         True  \n",
       "8         True  \n",
       "9         True  "
      ]
     },
     "execution_count": 2,
     "metadata": {},
     "output_type": "execute_result"
    }
   ],
   "source": [
    "dataset_df = pd.read_csv('/kaggle/input/spaceship-titanic/train.csv')\n",
    "dataset_df.head(10)"
   ]
  },
  {
   "cell_type": "code",
   "execution_count": 3,
   "id": "20c5bbe6",
   "metadata": {
    "execution": {
     "iopub.execute_input": "2023-06-24T15:13:55.880748Z",
     "iopub.status.busy": "2023-06-24T15:13:55.879623Z",
     "iopub.status.idle": "2023-06-24T15:13:55.920300Z",
     "shell.execute_reply": "2023-06-24T15:13:55.918992Z"
    },
    "papermill": {
     "duration": 0.05489,
     "end_time": "2023-06-24T15:13:55.923002",
     "exception": false,
     "start_time": "2023-06-24T15:13:55.868112",
     "status": "completed"
    },
    "tags": []
   },
   "outputs": [
    {
     "data": {
      "text/html": [
       "<div>\n",
       "<style scoped>\n",
       "    .dataframe tbody tr th:only-of-type {\n",
       "        vertical-align: middle;\n",
       "    }\n",
       "\n",
       "    .dataframe tbody tr th {\n",
       "        vertical-align: top;\n",
       "    }\n",
       "\n",
       "    .dataframe thead th {\n",
       "        text-align: right;\n",
       "    }\n",
       "</style>\n",
       "<table border=\"1\" class=\"dataframe\">\n",
       "  <thead>\n",
       "    <tr style=\"text-align: right;\">\n",
       "      <th></th>\n",
       "      <th>Age</th>\n",
       "      <th>RoomService</th>\n",
       "      <th>FoodCourt</th>\n",
       "      <th>ShoppingMall</th>\n",
       "      <th>Spa</th>\n",
       "      <th>VRDeck</th>\n",
       "    </tr>\n",
       "  </thead>\n",
       "  <tbody>\n",
       "    <tr>\n",
       "      <th>count</th>\n",
       "      <td>8514.000000</td>\n",
       "      <td>8512.000000</td>\n",
       "      <td>8510.000000</td>\n",
       "      <td>8485.000000</td>\n",
       "      <td>8510.000000</td>\n",
       "      <td>8505.000000</td>\n",
       "    </tr>\n",
       "    <tr>\n",
       "      <th>mean</th>\n",
       "      <td>28.827930</td>\n",
       "      <td>224.687617</td>\n",
       "      <td>458.077203</td>\n",
       "      <td>173.729169</td>\n",
       "      <td>311.138778</td>\n",
       "      <td>304.854791</td>\n",
       "    </tr>\n",
       "    <tr>\n",
       "      <th>std</th>\n",
       "      <td>14.489021</td>\n",
       "      <td>666.717663</td>\n",
       "      <td>1611.489240</td>\n",
       "      <td>604.696458</td>\n",
       "      <td>1136.705535</td>\n",
       "      <td>1145.717189</td>\n",
       "    </tr>\n",
       "    <tr>\n",
       "      <th>min</th>\n",
       "      <td>0.000000</td>\n",
       "      <td>0.000000</td>\n",
       "      <td>0.000000</td>\n",
       "      <td>0.000000</td>\n",
       "      <td>0.000000</td>\n",
       "      <td>0.000000</td>\n",
       "    </tr>\n",
       "    <tr>\n",
       "      <th>25%</th>\n",
       "      <td>19.000000</td>\n",
       "      <td>0.000000</td>\n",
       "      <td>0.000000</td>\n",
       "      <td>0.000000</td>\n",
       "      <td>0.000000</td>\n",
       "      <td>0.000000</td>\n",
       "    </tr>\n",
       "    <tr>\n",
       "      <th>50%</th>\n",
       "      <td>27.000000</td>\n",
       "      <td>0.000000</td>\n",
       "      <td>0.000000</td>\n",
       "      <td>0.000000</td>\n",
       "      <td>0.000000</td>\n",
       "      <td>0.000000</td>\n",
       "    </tr>\n",
       "    <tr>\n",
       "      <th>75%</th>\n",
       "      <td>38.000000</td>\n",
       "      <td>47.000000</td>\n",
       "      <td>76.000000</td>\n",
       "      <td>27.000000</td>\n",
       "      <td>59.000000</td>\n",
       "      <td>46.000000</td>\n",
       "    </tr>\n",
       "    <tr>\n",
       "      <th>max</th>\n",
       "      <td>79.000000</td>\n",
       "      <td>14327.000000</td>\n",
       "      <td>29813.000000</td>\n",
       "      <td>23492.000000</td>\n",
       "      <td>22408.000000</td>\n",
       "      <td>24133.000000</td>\n",
       "    </tr>\n",
       "  </tbody>\n",
       "</table>\n",
       "</div>"
      ],
      "text/plain": [
       "               Age   RoomService     FoodCourt  ShoppingMall           Spa  \\\n",
       "count  8514.000000   8512.000000   8510.000000   8485.000000   8510.000000   \n",
       "mean     28.827930    224.687617    458.077203    173.729169    311.138778   \n",
       "std      14.489021    666.717663   1611.489240    604.696458   1136.705535   \n",
       "min       0.000000      0.000000      0.000000      0.000000      0.000000   \n",
       "25%      19.000000      0.000000      0.000000      0.000000      0.000000   \n",
       "50%      27.000000      0.000000      0.000000      0.000000      0.000000   \n",
       "75%      38.000000     47.000000     76.000000     27.000000     59.000000   \n",
       "max      79.000000  14327.000000  29813.000000  23492.000000  22408.000000   \n",
       "\n",
       "             VRDeck  \n",
       "count   8505.000000  \n",
       "mean     304.854791  \n",
       "std     1145.717189  \n",
       "min        0.000000  \n",
       "25%        0.000000  \n",
       "50%        0.000000  \n",
       "75%       46.000000  \n",
       "max    24133.000000  "
      ]
     },
     "execution_count": 3,
     "metadata": {},
     "output_type": "execute_result"
    }
   ],
   "source": [
    "dataset_df.describe()"
   ]
  },
  {
   "cell_type": "code",
   "execution_count": 4,
   "id": "4a84e566",
   "metadata": {
    "execution": {
     "iopub.execute_input": "2023-06-24T15:13:55.946306Z",
     "iopub.status.busy": "2023-06-24T15:13:55.945903Z",
     "iopub.status.idle": "2023-06-24T15:13:55.993694Z",
     "shell.execute_reply": "2023-06-24T15:13:55.992464Z"
    },
    "papermill": {
     "duration": 0.062638,
     "end_time": "2023-06-24T15:13:55.996450",
     "exception": false,
     "start_time": "2023-06-24T15:13:55.933812",
     "status": "completed"
    },
    "tags": []
   },
   "outputs": [
    {
     "name": "stdout",
     "output_type": "stream",
     "text": [
      "<class 'pandas.core.frame.DataFrame'>\n",
      "RangeIndex: 8693 entries, 0 to 8692\n",
      "Data columns (total 14 columns):\n",
      " #   Column        Non-Null Count  Dtype  \n",
      "---  ------        --------------  -----  \n",
      " 0   PassengerId   8693 non-null   object \n",
      " 1   HomePlanet    8492 non-null   object \n",
      " 2   CryoSleep     8476 non-null   object \n",
      " 3   Cabin         8494 non-null   object \n",
      " 4   Destination   8511 non-null   object \n",
      " 5   Age           8514 non-null   float64\n",
      " 6   VIP           8490 non-null   object \n",
      " 7   RoomService   8512 non-null   float64\n",
      " 8   FoodCourt     8510 non-null   float64\n",
      " 9   ShoppingMall  8485 non-null   float64\n",
      " 10  Spa           8510 non-null   float64\n",
      " 11  VRDeck        8505 non-null   float64\n",
      " 12  Name          8493 non-null   object \n",
      " 13  Transported   8693 non-null   bool   \n",
      "dtypes: bool(1), float64(6), object(7)\n",
      "memory usage: 891.5+ KB\n"
     ]
    }
   ],
   "source": [
    "dataset_df.info()"
   ]
  },
  {
   "cell_type": "code",
   "execution_count": 5,
   "id": "ce671134",
   "metadata": {
    "execution": {
     "iopub.execute_input": "2023-06-24T15:13:56.020149Z",
     "iopub.status.busy": "2023-06-24T15:13:56.019751Z",
     "iopub.status.idle": "2023-06-24T15:13:56.341747Z",
     "shell.execute_reply": "2023-06-24T15:13:56.340807Z"
    },
    "papermill": {
     "duration": 0.33682,
     "end_time": "2023-06-24T15:13:56.344083",
     "exception": false,
     "start_time": "2023-06-24T15:13:56.007263",
     "status": "completed"
    },
    "tags": []
   },
   "outputs": [
    {
     "data": {
      "text/plain": [
       "<Axes: >"
      ]
     },
     "execution_count": 5,
     "metadata": {},
     "output_type": "execute_result"
    },
    {
     "data": {
      "image/png": "[encoded data removed]",
      "text/plain": [
       "<Figure size 640x480 with 1 Axes>"
      ]
     },
     "metadata": {},
     "output_type": "display_data"
    }
   ],
   "source": [
    "plot_df = dataset_df.Transported.value_counts()\n",
    "plot_df.plot(kind=\"bar\")"
   ]
  },
  {
   "cell_type": "code",
   "execution_count": 6,
   "id": "e2806c45",
   "metadata": {
    "execution": {
     "iopub.execute_input": "2023-06-24T15:13:56.368715Z",
     "iopub.status.busy": "2023-06-24T15:13:56.367850Z",
     "iopub.status.idle": "2023-06-24T15:13:58.221285Z",
     "shell.execute_reply": "2023-06-24T15:13:58.220460Z"
    },
    "papermill": {
     "duration": 1.868965,
     "end_time": "2023-06-24T15:13:58.224365",
     "exception": false,
     "start_time": "2023-06-24T15:13:56.355400",
     "status": "completed"
    },
    "tags": []
   },
   "outputs": [
    {
     "data": {
      "image/png": "[encoded data removed]",
      "text/plain": [
       "<Figure size 1000x1000 with 5 Axes>"
      ]
     },
     "metadata": {},
     "output_type": "display_data"
    }
   ],
   "source": [
    "fig, ax = plt.subplots(5,1,  figsize=(10, 10))\n",
    "plt.subplots_adjust(top = 2)\n",
    "\n",
    "sns.histplot(dataset_df['Age'], color='b', bins=50, ax=ax[0]);\n",
    "sns.histplot(dataset_df['FoodCourt'], color='b', bins=50, ax=ax[1]);\n",
    "sns.histplot(dataset_df['ShoppingMall'], color='b', bins=50, ax=ax[2]);\n",
    "sns.histplot(dataset_df['Spa'], color='b', bins=50, ax=ax[3]);\n",
    "sns.histplot(dataset_df['VRDeck'], color='b', bins=50, ax=ax[4]);\n",
    "\n"
   ]
  },
  {
   "cell_type": "markdown",
   "id": "cc5f9771",
   "metadata": {
    "papermill": {
     "duration": 0.012078,
     "end_time": "2023-06-24T15:13:58.248997",
     "exception": false,
     "start_time": "2023-06-24T15:13:58.236919",
     "status": "completed"
    },
    "tags": []
   },
   "source": [
    "## Data Preprocessing\n",
    "The first thing we have to do before we can build our model is clean the data for the analysis model to use. The PassengerId and Name field can both be removed as these two fields are not of intrest in the rest of the data analysis when it comes to determining which factors impact the binary classification of transported vs not transported. Next we need to remove the null values from the numeric catagories to 0 so that the tensorflow can actually perform the analysis.\n",
    "\n",
    "We then have to change the datatype to integer of all the boolian fields. This changes False to 0 and True to 1 and allows for our library to analyze the data more effectively. Finally, we remove the cabin feature and change it to a number as well so that it can be used as well and now we are able to move on to testing the different models and compiling our results."
   ]
  },
  {
   "cell_type": "code",
   "execution_count": 7,
   "id": "b7d4240c",
   "metadata": {
    "execution": {
     "iopub.execute_input": "2023-06-24T15:13:58.275497Z",
     "iopub.status.busy": "2023-06-24T15:13:58.275069Z",
     "iopub.status.idle": "2023-06-24T15:13:58.304171Z",
     "shell.execute_reply": "2023-06-24T15:13:58.303057Z"
    },
    "papermill": {
     "duration": 0.045246,
     "end_time": "2023-06-24T15:13:58.306528",
     "exception": false,
     "start_time": "2023-06-24T15:13:58.261282",
     "status": "completed"
    },
    "tags": []
   },
   "outputs": [
    {
     "data": {
      "text/html": [
       "<div>\n",
       "<style scoped>\n",
       "    .dataframe tbody tr th:only-of-type {\n",
       "        vertical-align: middle;\n",
       "    }\n",
       "\n",
       "    .dataframe tbody tr th {\n",
       "        vertical-align: top;\n",
       "    }\n",
       "\n",
       "    .dataframe thead th {\n",
       "        text-align: right;\n",
       "    }\n",
       "</style>\n",
       "<table border=\"1\" class=\"dataframe\">\n",
       "  <thead>\n",
       "    <tr style=\"text-align: right;\">\n",
       "      <th></th>\n",
       "      <th>HomePlanet</th>\n",
       "      <th>CryoSleep</th>\n",
       "      <th>Cabin</th>\n",
       "      <th>Destination</th>\n",
       "      <th>Age</th>\n",
       "      <th>VIP</th>\n",
       "      <th>RoomService</th>\n",
       "      <th>FoodCourt</th>\n",
       "      <th>ShoppingMall</th>\n",
       "      <th>Spa</th>\n",
       "      <th>VRDeck</th>\n",
       "      <th>Transported</th>\n",
       "    </tr>\n",
       "  </thead>\n",
       "  <tbody>\n",
       "    <tr>\n",
       "      <th>0</th>\n",
       "      <td>Europa</td>\n",
       "      <td>False</td>\n",
       "      <td>B/0/P</td>\n",
       "      <td>TRAPPIST-1e</td>\n",
       "      <td>39.0</td>\n",
       "      <td>False</td>\n",
       "      <td>0.0</td>\n",
       "      <td>0.0</td>\n",
       "      <td>0.0</td>\n",
       "      <td>0.0</td>\n",
       "      <td>0.0</td>\n",
       "      <td>False</td>\n",
       "    </tr>\n",
       "    <tr>\n",
       "      <th>1</th>\n",
       "      <td>Earth</td>\n",
       "      <td>False</td>\n",
       "      <td>F/0/S</td>\n",
       "      <td>TRAPPIST-1e</td>\n",
       "      <td>24.0</td>\n",
       "      <td>False</td>\n",
       "      <td>109.0</td>\n",
       "      <td>9.0</td>\n",
       "      <td>25.0</td>\n",
       "      <td>549.0</td>\n",
       "      <td>44.0</td>\n",
       "      <td>True</td>\n",
       "    </tr>\n",
       "    <tr>\n",
       "      <th>2</th>\n",
       "      <td>Europa</td>\n",
       "      <td>False</td>\n",
       "      <td>A/0/S</td>\n",
       "      <td>TRAPPIST-1e</td>\n",
       "      <td>58.0</td>\n",
       "      <td>True</td>\n",
       "      <td>43.0</td>\n",
       "      <td>3576.0</td>\n",
       "      <td>0.0</td>\n",
       "      <td>6715.0</td>\n",
       "      <td>49.0</td>\n",
       "      <td>False</td>\n",
       "    </tr>\n",
       "    <tr>\n",
       "      <th>3</th>\n",
       "      <td>Europa</td>\n",
       "      <td>False</td>\n",
       "      <td>A/0/S</td>\n",
       "      <td>TRAPPIST-1e</td>\n",
       "      <td>33.0</td>\n",
       "      <td>False</td>\n",
       "      <td>0.0</td>\n",
       "      <td>1283.0</td>\n",
       "      <td>371.0</td>\n",
       "      <td>3329.0</td>\n",
       "      <td>193.0</td>\n",
       "      <td>False</td>\n",
       "    </tr>\n",
       "    <tr>\n",
       "      <th>4</th>\n",
       "      <td>Earth</td>\n",
       "      <td>False</td>\n",
       "      <td>F/1/S</td>\n",
       "      <td>TRAPPIST-1e</td>\n",
       "      <td>16.0</td>\n",
       "      <td>False</td>\n",
       "      <td>303.0</td>\n",
       "      <td>70.0</td>\n",
       "      <td>151.0</td>\n",
       "      <td>565.0</td>\n",
       "      <td>2.0</td>\n",
       "      <td>True</td>\n",
       "    </tr>\n",
       "    <tr>\n",
       "      <th>5</th>\n",
       "      <td>Earth</td>\n",
       "      <td>False</td>\n",
       "      <td>F/0/P</td>\n",
       "      <td>PSO J318.5-22</td>\n",
       "      <td>44.0</td>\n",
       "      <td>False</td>\n",
       "      <td>0.0</td>\n",
       "      <td>483.0</td>\n",
       "      <td>0.0</td>\n",
       "      <td>291.0</td>\n",
       "      <td>0.0</td>\n",
       "      <td>True</td>\n",
       "    </tr>\n",
       "    <tr>\n",
       "      <th>6</th>\n",
       "      <td>Earth</td>\n",
       "      <td>False</td>\n",
       "      <td>F/2/S</td>\n",
       "      <td>TRAPPIST-1e</td>\n",
       "      <td>26.0</td>\n",
       "      <td>False</td>\n",
       "      <td>42.0</td>\n",
       "      <td>1539.0</td>\n",
       "      <td>3.0</td>\n",
       "      <td>0.0</td>\n",
       "      <td>0.0</td>\n",
       "      <td>True</td>\n",
       "    </tr>\n",
       "    <tr>\n",
       "      <th>7</th>\n",
       "      <td>Earth</td>\n",
       "      <td>True</td>\n",
       "      <td>G/0/S</td>\n",
       "      <td>TRAPPIST-1e</td>\n",
       "      <td>28.0</td>\n",
       "      <td>False</td>\n",
       "      <td>0.0</td>\n",
       "      <td>0.0</td>\n",
       "      <td>0.0</td>\n",
       "      <td>0.0</td>\n",
       "      <td>NaN</td>\n",
       "      <td>True</td>\n",
       "    </tr>\n",
       "    <tr>\n",
       "      <th>8</th>\n",
       "      <td>Earth</td>\n",
       "      <td>False</td>\n",
       "      <td>F/3/S</td>\n",
       "      <td>TRAPPIST-1e</td>\n",
       "      <td>35.0</td>\n",
       "      <td>False</td>\n",
       "      <td>0.0</td>\n",
       "      <td>785.0</td>\n",
       "      <td>17.0</td>\n",
       "      <td>216.0</td>\n",
       "      <td>0.0</td>\n",
       "      <td>True</td>\n",
       "    </tr>\n",
       "    <tr>\n",
       "      <th>9</th>\n",
       "      <td>Europa</td>\n",
       "      <td>True</td>\n",
       "      <td>B/1/P</td>\n",
       "      <td>55 Cancri e</td>\n",
       "      <td>14.0</td>\n",
       "      <td>False</td>\n",
       "      <td>0.0</td>\n",
       "      <td>0.0</td>\n",
       "      <td>0.0</td>\n",
       "      <td>0.0</td>\n",
       "      <td>0.0</td>\n",
       "      <td>True</td>\n",
       "    </tr>\n",
       "  </tbody>\n",
       "</table>\n",
       "</div>"
      ],
      "text/plain": [
       "  HomePlanet CryoSleep  Cabin    Destination   Age    VIP  RoomService  \\\n",
       "0     Europa     False  B/0/P    TRAPPIST-1e  39.0  False          0.0   \n",
       "1      Earth     False  F/0/S    TRAPPIST-1e  24.0  False        109.0   \n",
       "2     Europa     False  A/0/S    TRAPPIST-1e  58.0   True         43.0   \n",
       "3     Europa     False  A/0/S    TRAPPIST-1e  33.0  False          0.0   \n",
       "4      Earth     False  F/1/S    TRAPPIST-1e  16.0  False        303.0   \n",
       "5      Earth     False  F/0/P  PSO J318.5-22  44.0  False          0.0   \n",
       "6      Earth     False  F/2/S    TRAPPIST-1e  26.0  False         42.0   \n",
       "7      Earth      True  G/0/S    TRAPPIST-1e  28.0  False          0.0   \n",
       "8      Earth     False  F/3/S    TRAPPIST-1e  35.0  False          0.0   \n",
       "9     Europa      True  B/1/P    55 Cancri e  14.0  False          0.0   \n",
       "\n",
       "   FoodCourt  ShoppingMall     Spa  VRDeck  Transported  \n",
       "0        0.0           0.0     0.0     0.0        False  \n",
       "1        9.0          25.0   549.0    44.0         True  \n",
       "2     3576.0           0.0  6715.0    49.0        False  \n",
       "3     1283.0         371.0  3329.0   193.0        False  \n",
       "4       70.0         151.0   565.0     2.0         True  \n",
       "5      483.0           0.0   291.0     0.0         True  \n",
       "6     1539.0           3.0     0.0     0.0         True  \n",
       "7        0.0           0.0     0.0     NaN         True  \n",
       "8      785.0          17.0   216.0     0.0         True  \n",
       "9        0.0           0.0     0.0     0.0         True  "
      ]
     },
     "execution_count": 7,
     "metadata": {},
     "output_type": "execute_result"
    }
   ],
   "source": [
    "#Data cleaning, there is no need for the passengerID or Name fields as it is likely not needed\n",
    "dataset_df = dataset_df.drop(['PassengerId', 'Name'], axis=1)\n",
    "dataset_df.head(10)"
   ]
  },
  {
   "cell_type": "code",
   "execution_count": 8,
   "id": "57797a1f",
   "metadata": {
    "execution": {
     "iopub.execute_input": "2023-06-24T15:13:58.333335Z",
     "iopub.status.busy": "2023-06-24T15:13:58.332957Z",
     "iopub.status.idle": "2023-06-24T15:13:58.356697Z",
     "shell.execute_reply": "2023-06-24T15:13:58.355699Z"
    },
    "papermill": {
     "duration": 0.040034,
     "end_time": "2023-06-24T15:13:58.359154",
     "exception": false,
     "start_time": "2023-06-24T15:13:58.319120",
     "status": "completed"
    },
    "tags": []
   },
   "outputs": [
    {
     "data": {
      "text/plain": [
       "CryoSleep       217\n",
       "ShoppingMall    208\n",
       "VIP             203\n",
       "HomePlanet      201\n",
       "Cabin           199\n",
       "VRDeck          188\n",
       "FoodCourt       183\n",
       "Spa             183\n",
       "Destination     182\n",
       "RoomService     181\n",
       "Age             179\n",
       "Transported       0\n",
       "dtype: int64"
      ]
     },
     "execution_count": 8,
     "metadata": {},
     "output_type": "execute_result"
    }
   ],
   "source": [
    "dataset_df.isnull().sum().sort_values(ascending=False)"
   ]
  },
  {
   "cell_type": "code",
   "execution_count": 9,
   "id": "e91b28f5",
   "metadata": {
    "execution": {
     "iopub.execute_input": "2023-06-24T15:13:58.387362Z",
     "iopub.status.busy": "2023-06-24T15:13:58.386333Z",
     "iopub.status.idle": "2023-06-24T15:13:58.426453Z",
     "shell.execute_reply": "2023-06-24T15:13:58.425440Z"
    },
    "papermill": {
     "duration": 0.057334,
     "end_time": "2023-06-24T15:13:58.429137",
     "exception": false,
     "start_time": "2023-06-24T15:13:58.371803",
     "status": "completed"
    },
    "tags": []
   },
   "outputs": [
    {
     "data": {
      "text/plain": [
       "HomePlanet      201\n",
       "Cabin           199\n",
       "Destination     182\n",
       "RoomService     181\n",
       "Age             179\n",
       "CryoSleep         0\n",
       "VIP               0\n",
       "FoodCourt         0\n",
       "ShoppingMall      0\n",
       "Spa               0\n",
       "VRDeck            0\n",
       "Transported       0\n",
       "dtype: int64"
      ]
     },
     "execution_count": 9,
     "metadata": {},
     "output_type": "execute_result"
    }
   ],
   "source": [
    "dataset_df[['VIP', 'CryoSleep', 'FoodCourt', 'ShoppingMall', 'Spa', 'VRDeck']] = dataset_df[['VIP', 'CryoSleep', 'FoodCourt', 'ShoppingMall', 'Spa', 'VRDeck']].fillna(value=0)\n",
    "dataset_df.isnull().sum().sort_values(ascending=False)"
   ]
  },
  {
   "cell_type": "code",
   "execution_count": 10,
   "id": "146e7f71",
   "metadata": {
    "execution": {
     "iopub.execute_input": "2023-06-24T15:13:58.458198Z",
     "iopub.status.busy": "2023-06-24T15:13:58.457534Z",
     "iopub.status.idle": "2023-06-24T15:13:58.466797Z",
     "shell.execute_reply": "2023-06-24T15:13:58.465438Z"
    },
    "papermill": {
     "duration": 0.026445,
     "end_time": "2023-06-24T15:13:58.469233",
     "exception": false,
     "start_time": "2023-06-24T15:13:58.442788",
     "status": "completed"
    },
    "tags": []
   },
   "outputs": [],
   "source": [
    "dataset_df[\"Transported\"] = dataset_df[\"Transported\"].astype(int)\n",
    "dataset_df['VIP'] = dataset_df['VIP'].astype(int)\n",
    "dataset_df['CryoSleep'] = dataset_df['CryoSleep'].astype(int)"
   ]
  },
  {
   "cell_type": "code",
   "execution_count": 11,
   "id": "7739de9e",
   "metadata": {
    "execution": {
     "iopub.execute_input": "2023-06-24T15:13:58.497590Z",
     "iopub.status.busy": "2023-06-24T15:13:58.497115Z",
     "iopub.status.idle": "2023-06-24T15:13:58.526131Z",
     "shell.execute_reply": "2023-06-24T15:13:58.524967Z"
    },
    "papermill": {
     "duration": 0.046073,
     "end_time": "2023-06-24T15:13:58.528678",
     "exception": false,
     "start_time": "2023-06-24T15:13:58.482605",
     "status": "completed"
    },
    "tags": []
   },
   "outputs": [],
   "source": [
    "dataset_df[[\"Deck\", \"Cabin_num\", \"Side\"]] = dataset_df[\"Cabin\"].str.split(\"/\", expand=True)\n",
    "\n",
    "\n",
    "try:\n",
    "    dataset_df = dataset_df.drop('Cabin', axis=1)\n",
    "except KeyError:\n",
    "    print(\"Field does not exist\")"
   ]
  },
  {
   "cell_type": "code",
   "execution_count": 12,
   "id": "f66d9ffd",
   "metadata": {
    "execution": {
     "iopub.execute_input": "2023-06-24T15:13:58.556776Z",
     "iopub.status.busy": "2023-06-24T15:13:58.556112Z",
     "iopub.status.idle": "2023-06-24T15:13:58.582775Z",
     "shell.execute_reply": "2023-06-24T15:13:58.581669Z"
    },
    "papermill": {
     "duration": 0.043432,
     "end_time": "2023-06-24T15:13:58.585211",
     "exception": false,
     "start_time": "2023-06-24T15:13:58.541779",
     "status": "completed"
    },
    "tags": []
   },
   "outputs": [
    {
     "data": {
      "text/html": [
       "<div>\n",
       "<style scoped>\n",
       "    .dataframe tbody tr th:only-of-type {\n",
       "        vertical-align: middle;\n",
       "    }\n",
       "\n",
       "    .dataframe tbody tr th {\n",
       "        vertical-align: top;\n",
       "    }\n",
       "\n",
       "    .dataframe thead th {\n",
       "        text-align: right;\n",
       "    }\n",
       "</style>\n",
       "<table border=\"1\" class=\"dataframe\">\n",
       "  <thead>\n",
       "    <tr style=\"text-align: right;\">\n",
       "      <th></th>\n",
       "      <th>HomePlanet</th>\n",
       "      <th>CryoSleep</th>\n",
       "      <th>Destination</th>\n",
       "      <th>Age</th>\n",
       "      <th>VIP</th>\n",
       "      <th>RoomService</th>\n",
       "      <th>FoodCourt</th>\n",
       "      <th>ShoppingMall</th>\n",
       "      <th>Spa</th>\n",
       "      <th>VRDeck</th>\n",
       "      <th>Transported</th>\n",
       "      <th>Deck</th>\n",
       "      <th>Cabin_num</th>\n",
       "      <th>Side</th>\n",
       "    </tr>\n",
       "  </thead>\n",
       "  <tbody>\n",
       "    <tr>\n",
       "      <th>0</th>\n",
       "      <td>Europa</td>\n",
       "      <td>0</td>\n",
       "      <td>TRAPPIST-1e</td>\n",
       "      <td>39.0</td>\n",
       "      <td>0</td>\n",
       "      <td>0.0</td>\n",
       "      <td>0.0</td>\n",
       "      <td>0.0</td>\n",
       "      <td>0.0</td>\n",
       "      <td>0.0</td>\n",
       "      <td>0</td>\n",
       "      <td>B</td>\n",
       "      <td>0</td>\n",
       "      <td>P</td>\n",
       "    </tr>\n",
       "    <tr>\n",
       "      <th>1</th>\n",
       "      <td>Earth</td>\n",
       "      <td>0</td>\n",
       "      <td>TRAPPIST-1e</td>\n",
       "      <td>24.0</td>\n",
       "      <td>0</td>\n",
       "      <td>109.0</td>\n",
       "      <td>9.0</td>\n",
       "      <td>25.0</td>\n",
       "      <td>549.0</td>\n",
       "      <td>44.0</td>\n",
       "      <td>1</td>\n",
       "      <td>F</td>\n",
       "      <td>0</td>\n",
       "      <td>S</td>\n",
       "    </tr>\n",
       "    <tr>\n",
       "      <th>2</th>\n",
       "      <td>Europa</td>\n",
       "      <td>0</td>\n",
       "      <td>TRAPPIST-1e</td>\n",
       "      <td>58.0</td>\n",
       "      <td>1</td>\n",
       "      <td>43.0</td>\n",
       "      <td>3576.0</td>\n",
       "      <td>0.0</td>\n",
       "      <td>6715.0</td>\n",
       "      <td>49.0</td>\n",
       "      <td>0</td>\n",
       "      <td>A</td>\n",
       "      <td>0</td>\n",
       "      <td>S</td>\n",
       "    </tr>\n",
       "    <tr>\n",
       "      <th>3</th>\n",
       "      <td>Europa</td>\n",
       "      <td>0</td>\n",
       "      <td>TRAPPIST-1e</td>\n",
       "      <td>33.0</td>\n",
       "      <td>0</td>\n",
       "      <td>0.0</td>\n",
       "      <td>1283.0</td>\n",
       "      <td>371.0</td>\n",
       "      <td>3329.0</td>\n",
       "      <td>193.0</td>\n",
       "      <td>0</td>\n",
       "      <td>A</td>\n",
       "      <td>0</td>\n",
       "      <td>S</td>\n",
       "    </tr>\n",
       "    <tr>\n",
       "      <th>4</th>\n",
       "      <td>Earth</td>\n",
       "      <td>0</td>\n",
       "      <td>TRAPPIST-1e</td>\n",
       "      <td>16.0</td>\n",
       "      <td>0</td>\n",
       "      <td>303.0</td>\n",
       "      <td>70.0</td>\n",
       "      <td>151.0</td>\n",
       "      <td>565.0</td>\n",
       "      <td>2.0</td>\n",
       "      <td>1</td>\n",
       "      <td>F</td>\n",
       "      <td>1</td>\n",
       "      <td>S</td>\n",
       "    </tr>\n",
       "    <tr>\n",
       "      <th>5</th>\n",
       "      <td>Earth</td>\n",
       "      <td>0</td>\n",
       "      <td>PSO J318.5-22</td>\n",
       "      <td>44.0</td>\n",
       "      <td>0</td>\n",
       "      <td>0.0</td>\n",
       "      <td>483.0</td>\n",
       "      <td>0.0</td>\n",
       "      <td>291.0</td>\n",
       "      <td>0.0</td>\n",
       "      <td>1</td>\n",
       "      <td>F</td>\n",
       "      <td>0</td>\n",
       "      <td>P</td>\n",
       "    </tr>\n",
       "    <tr>\n",
       "      <th>6</th>\n",
       "      <td>Earth</td>\n",
       "      <td>0</td>\n",
       "      <td>TRAPPIST-1e</td>\n",
       "      <td>26.0</td>\n",
       "      <td>0</td>\n",
       "      <td>42.0</td>\n",
       "      <td>1539.0</td>\n",
       "      <td>3.0</td>\n",
       "      <td>0.0</td>\n",
       "      <td>0.0</td>\n",
       "      <td>1</td>\n",
       "      <td>F</td>\n",
       "      <td>2</td>\n",
       "      <td>S</td>\n",
       "    </tr>\n",
       "    <tr>\n",
       "      <th>7</th>\n",
       "      <td>Earth</td>\n",
       "      <td>1</td>\n",
       "      <td>TRAPPIST-1e</td>\n",
       "      <td>28.0</td>\n",
       "      <td>0</td>\n",
       "      <td>0.0</td>\n",
       "      <td>0.0</td>\n",
       "      <td>0.0</td>\n",
       "      <td>0.0</td>\n",
       "      <td>0.0</td>\n",
       "      <td>1</td>\n",
       "      <td>G</td>\n",
       "      <td>0</td>\n",
       "      <td>S</td>\n",
       "    </tr>\n",
       "    <tr>\n",
       "      <th>8</th>\n",
       "      <td>Earth</td>\n",
       "      <td>0</td>\n",
       "      <td>TRAPPIST-1e</td>\n",
       "      <td>35.0</td>\n",
       "      <td>0</td>\n",
       "      <td>0.0</td>\n",
       "      <td>785.0</td>\n",
       "      <td>17.0</td>\n",
       "      <td>216.0</td>\n",
       "      <td>0.0</td>\n",
       "      <td>1</td>\n",
       "      <td>F</td>\n",
       "      <td>3</td>\n",
       "      <td>S</td>\n",
       "    </tr>\n",
       "    <tr>\n",
       "      <th>9</th>\n",
       "      <td>Europa</td>\n",
       "      <td>1</td>\n",
       "      <td>55 Cancri e</td>\n",
       "      <td>14.0</td>\n",
       "      <td>0</td>\n",
       "      <td>0.0</td>\n",
       "      <td>0.0</td>\n",
       "      <td>0.0</td>\n",
       "      <td>0.0</td>\n",
       "      <td>0.0</td>\n",
       "      <td>1</td>\n",
       "      <td>B</td>\n",
       "      <td>1</td>\n",
       "      <td>P</td>\n",
       "    </tr>\n",
       "  </tbody>\n",
       "</table>\n",
       "</div>"
      ],
      "text/plain": [
       "  HomePlanet  CryoSleep    Destination   Age  VIP  RoomService  FoodCourt  \\\n",
       "0     Europa          0    TRAPPIST-1e  39.0    0          0.0        0.0   \n",
       "1      Earth          0    TRAPPIST-1e  24.0    0        109.0        9.0   \n",
       "2     Europa          0    TRAPPIST-1e  58.0    1         43.0     3576.0   \n",
       "3     Europa          0    TRAPPIST-1e  33.0    0          0.0     1283.0   \n",
       "4      Earth          0    TRAPPIST-1e  16.0    0        303.0       70.0   \n",
       "5      Earth          0  PSO J318.5-22  44.0    0          0.0      483.0   \n",
       "6      Earth          0    TRAPPIST-1e  26.0    0         42.0     1539.0   \n",
       "7      Earth          1    TRAPPIST-1e  28.0    0          0.0        0.0   \n",
       "8      Earth          0    TRAPPIST-1e  35.0    0          0.0      785.0   \n",
       "9     Europa          1    55 Cancri e  14.0    0          0.0        0.0   \n",
       "\n",
       "   ShoppingMall     Spa  VRDeck  Transported Deck Cabin_num Side  \n",
       "0           0.0     0.0     0.0            0    B         0    P  \n",
       "1          25.0   549.0    44.0            1    F         0    S  \n",
       "2           0.0  6715.0    49.0            0    A         0    S  \n",
       "3         371.0  3329.0   193.0            0    A         0    S  \n",
       "4         151.0   565.0     2.0            1    F         1    S  \n",
       "5           0.0   291.0     0.0            1    F         0    P  \n",
       "6           3.0     0.0     0.0            1    F         2    S  \n",
       "7           0.0     0.0     0.0            1    G         0    S  \n",
       "8          17.0   216.0     0.0            1    F         3    S  \n",
       "9           0.0     0.0     0.0            1    B         1    P  "
      ]
     },
     "execution_count": 12,
     "metadata": {},
     "output_type": "execute_result"
    }
   ],
   "source": [
    "dataset_df.head(10)"
   ]
  },
  {
   "cell_type": "markdown",
   "id": "37aabd30",
   "metadata": {
    "papermill": {
     "duration": 0.012935,
     "end_time": "2023-06-24T15:13:58.611580",
     "exception": false,
     "start_time": "2023-06-24T15:13:58.598645",
     "status": "completed"
    },
    "tags": []
   },
   "source": [
    "# Model Anaylsis\n",
    "\n",
    "For model analysis in the Spaceship Titanic Kaggle project, the TensorFlow Decision Forests Gradient Boosted Trees (GBT) model provides a powerful and interpretable solution. By leveraging the strengths of gradient boosting, this model combines multiple decision trees to make accurate predictions on passenger survival. To analyze the GBT model's performance, various techniques can be employed. Firstly, feature importance can be assessed to identify the most influential variables in determining survival outcomes. This information can provide valuable insights into the underlying factors that impacted passenger survival rates. Additionally, examining the training and validation curves can shed light on the model's convergence and potential overfitting issues. By visualizing the predicted probabilities and comparing them with the ground truth labels, the model's calibration can be assessed, providing an understanding of its reliability. Overall, the TensorFlow Decision Forests GBT model offers a comprehensive and insightful approach for analyzing and interpreting the Spaceship Titanic dataset, enhancing our understanding of the factors influencing passenger survival."
   ]
  },
  {
   "cell_type": "code",
   "execution_count": 13,
   "id": "62e7ea5c",
   "metadata": {
    "execution": {
     "iopub.execute_input": "2023-06-24T15:13:58.639935Z",
     "iopub.status.busy": "2023-06-24T15:13:58.639527Z",
     "iopub.status.idle": "2023-06-24T15:13:58.651128Z",
     "shell.execute_reply": "2023-06-24T15:13:58.649437Z"
    },
    "papermill": {
     "duration": 0.028671,
     "end_time": "2023-06-24T15:13:58.653463",
     "exception": false,
     "start_time": "2023-06-24T15:13:58.624792",
     "status": "completed"
    },
    "tags": []
   },
   "outputs": [
    {
     "name": "stdout",
     "output_type": "stream",
     "text": [
      "6986 examples in training, 1707 examples in testing.\n"
     ]
    }
   ],
   "source": [
    "def split_dataset(dataset, test_ratio=0.20):\n",
    "  test_indices = np.random.rand(len(dataset)) < test_ratio\n",
    "  return dataset[~test_indices], dataset[test_indices]\n",
    "\n",
    "train_ds_pd, valid_ds_pd = split_dataset(dataset_df)\n",
    "print(\"{} examples in training, {} examples in testing.\".format(\n",
    "    len(train_ds_pd), len(valid_ds_pd)))"
   ]
  },
  {
   "cell_type": "code",
   "execution_count": 14,
   "id": "85838271",
   "metadata": {
    "execution": {
     "iopub.execute_input": "2023-06-24T15:13:58.683481Z",
     "iopub.status.busy": "2023-06-24T15:13:58.682315Z",
     "iopub.status.idle": "2023-06-24T15:13:58.864783Z",
     "shell.execute_reply": "2023-06-24T15:13:58.863582Z"
    },
    "papermill": {
     "duration": 0.200333,
     "end_time": "2023-06-24T15:13:58.867565",
     "exception": false,
     "start_time": "2023-06-24T15:13:58.667232",
     "status": "completed"
    },
    "tags": []
   },
   "outputs": [],
   "source": [
    "train_ds = tfdf.keras.pd_dataframe_to_tf_dataset(train_ds_pd, label=\"Transported\")\n",
    "valid_ds = tfdf.keras.pd_dataframe_to_tf_dataset(valid_ds_pd, label=\"Transported\")"
   ]
  },
  {
   "cell_type": "code",
   "execution_count": 15,
   "id": "5e590312",
   "metadata": {
    "execution": {
     "iopub.execute_input": "2023-06-24T15:13:58.897502Z",
     "iopub.status.busy": "2023-06-24T15:13:58.896369Z",
     "iopub.status.idle": "2023-06-24T15:13:58.903944Z",
     "shell.execute_reply": "2023-06-24T15:13:58.902882Z"
    },
    "papermill": {
     "duration": 0.024511,
     "end_time": "2023-06-24T15:13:58.906190",
     "exception": false,
     "start_time": "2023-06-24T15:13:58.881679",
     "status": "completed"
    },
    "tags": []
   },
   "outputs": [
    {
     "data": {
      "text/plain": [
       "[tensorflow_decision_forests.keras.RandomForestModel,\n",
       " tensorflow_decision_forests.keras.GradientBoostedTreesModel,\n",
       " tensorflow_decision_forests.keras.CartModel,\n",
       " tensorflow_decision_forests.keras.DistributedGradientBoostedTreesModel]"
      ]
     },
     "execution_count": 15,
     "metadata": {},
     "output_type": "execute_result"
    }
   ],
   "source": [
    "tfdf.keras.get_all_models()"
   ]
  },
  {
   "cell_type": "code",
   "execution_count": 16,
   "id": "9f4ea40b",
   "metadata": {
    "execution": {
     "iopub.execute_input": "2023-06-24T15:13:58.935263Z",
     "iopub.status.busy": "2023-06-24T15:13:58.934743Z",
     "iopub.status.idle": "2023-06-24T15:13:59.010725Z",
     "shell.execute_reply": "2023-06-24T15:13:59.009561Z"
    },
    "papermill": {
     "duration": 0.09341,
     "end_time": "2023-06-24T15:13:59.013304",
     "exception": false,
     "start_time": "2023-06-24T15:13:58.919894",
     "status": "completed"
    },
    "tags": []
   },
   "outputs": [
    {
     "name": "stdout",
     "output_type": "stream",
     "text": [
      "Resolve hyper-parameter template \"benchmark_rank1\" to \"benchmark_rank1@v1\" -> {'growing_strategy': 'BEST_FIRST_GLOBAL', 'categorical_algorithm': 'RANDOM', 'split_axis': 'SPARSE_OBLIQUE', 'sparse_oblique_normalization': 'MIN_MAX', 'sparse_oblique_num_projections_exponent': 1.0}.\n",
      "Use /tmp/tmphlmm32ba as temporary training directory\n"
     ]
    },
    {
     "name": "stderr",
     "output_type": "stream",
     "text": [
      "[WARNING 23-06-24 15:13:58.9809 UTC gradient_boosted_trees.cc:1797] \"goss_alpha\" set but \"sampling_method\" not equal to \"GOSS\".\n",
      "[WARNING 23-06-24 15:13:58.9811 UTC gradient_boosted_trees.cc:1808] \"goss_beta\" set but \"sampling_method\" not equal to \"GOSS\".\n",
      "[WARNING 23-06-24 15:13:58.9813 UTC gradient_boosted_trees.cc:1822] \"selective_gradient_boosting_ratio\" set but \"sampling_method\" not equal to \"SELGB\".\n"
     ]
    }
   ],
   "source": [
    "#rf = tfdf..keras.RandomForestModel(hyperparameter_template=\"benchmark_rank1\")\n",
    "#rf = tfdf..keras.CartModel(hyperparameter_template=\"benchmark_rank1\")\n",
    "rf = tfdf.keras.GradientBoostedTreesModel(hyperparameter_template=\"benchmark_rank1\")\n",
    "#rf = tfdf..keras.DistributedGradientBoostedTreesModel(hyperparameter_template=\"benchmark_rank1\")\n",
    "rf.compile(metrics=[\"accuracy\"])"
   ]
  },
  {
   "cell_type": "code",
   "execution_count": 17,
   "id": "1541ac16",
   "metadata": {
    "execution": {
     "iopub.execute_input": "2023-06-24T15:13:59.043852Z",
     "iopub.status.busy": "2023-06-24T15:13:59.042957Z",
     "iopub.status.idle": "2023-06-24T15:14:59.678853Z",
     "shell.execute_reply": "2023-06-24T15:14:59.677632Z"
    },
    "papermill": {
     "duration": 60.654026,
     "end_time": "2023-06-24T15:14:59.681669",
     "exception": false,
     "start_time": "2023-06-24T15:13:59.027643",
     "status": "completed"
    },
    "tags": []
   },
   "outputs": [
    {
     "name": "stdout",
     "output_type": "stream",
     "text": [
      "Reading training dataset...\n",
      "Training dataset read in 0:00:07.460362. Found 6986 examples.\n",
      "Training model...\n",
      "Model trained in 0:00:49.936300\n",
      "Compiling model...\n"
     ]
    },
    {
     "name": "stderr",
     "output_type": "stream",
     "text": [
      "[INFO 23-06-24 15:14:56.4358 UTC kernel.cc:1242] Loading model from path /tmp/tmphlmm32ba/model/ with prefix c8fa379ae3644ee6\n",
      "[INFO 23-06-24 15:14:56.4570 UTC decision_forest.cc:660] Model loaded with 51 root(s), 3111 node(s), and 13 input feature(s).\n",
      "[INFO 23-06-24 15:14:56.4571 UTC abstract_model.cc:1311] Engine \"GradientBoostedTreesGeneric\" built\n",
      "[INFO 23-06-24 15:14:56.4571 UTC kernel.cc:1074] Use fast generic engine\n"
     ]
    },
    {
     "name": "stdout",
     "output_type": "stream",
     "text": [
      "WARNING: AutoGraph could not transform <function simple_ml_inference_op_with_handle at 0x79395f63aef0> and will run it as-is.\n",
      "Please report this to the TensorFlow team. When filing the bug, set the verbosity to 10 (on Linux, `export AUTOGRAPH_VERBOSITY=10`) and attach the full output.\n",
      "Cause: could not get source code\n",
      "To silence this warning, decorate the function with @tf.autograph.experimental.do_not_convert\n",
      "Model compiled.\n"
     ]
    },
    {
     "data": {
      "text/plain": [
       "<keras.callbacks.History at 0x7939bbeac0a0>"
      ]
     },
     "execution_count": 17,
     "metadata": {},
     "output_type": "execute_result"
    }
   ],
   "source": [
    "rf.fit(x=train_ds)"
   ]
  },
  {
   "cell_type": "code",
   "execution_count": 18,
   "id": "e81871e7",
   "metadata": {
    "execution": {
     "iopub.execute_input": "2023-06-24T15:14:59.714730Z",
     "iopub.status.busy": "2023-06-24T15:14:59.713345Z",
     "iopub.status.idle": "2023-06-24T15:14:59.895561Z",
     "shell.execute_reply": "2023-06-24T15:14:59.894022Z"
    },
    "papermill": {
     "duration": 0.20299,
     "end_time": "2023-06-24T15:14:59.899770",
     "exception": false,
     "start_time": "2023-06-24T15:14:59.696780",
     "status": "completed"
    },
    "tags": []
   },
   "outputs": [
    {
     "data": {
      "text/html": [
       "\n",
       "<script src=\"https://d3js.org/d3.v6.min.js\"></script>\n",
       "<div id=\"tree_plot_2446b4487a874f3695f36c8b2dfc6d66\"></div>\n",
       "<script>\n",
       "/*\n",
       " * Copyright 2021 Google LLC.\n",
       " * Licensed under the Apache License, Version 2.0 (the \"License\");\n",
       " * you may not use this file except in compliance with the License.\n",
       " * You may obtain a copy of the License at\n",
       " *\n",
       " *     https://www.apache.org/licenses/LICENSE-2.0\n",
       " *\n",
       " * Unless required by applicable law or agreed to in writing, software\n",
       " * distributed under the License is distributed on an \"AS IS\" BASIS,\n",
       " * WITHOUT WARRANTIES OR CONDITIONS OF ANY KIND, either express or implied.\n",
       " * See the License for the specific language governing permissions and\n",
       " * limitations under the License.\n",
       " */\n",
       "\n",
       "/**\n",
       " *  Plotting of decision trees generated by TF-DF.\n",
       " *\n",
       " *  A tree is a recursive structure of node objects.\n",
       " *  A node contains one or more of the following components:\n",
       " *\n",
       " *    - A value: Representing the output of the node. If the node is not a leaf,\n",
       " *      the value is only present for analysis i.e. it is not used for\n",
       " *      predictions.\n",
       " *\n",
       " *    - A condition : For non-leaf nodes, the condition (also known as split)\n",
       " *      defines a binary test to branch to the positive or negative child.\n",
       " *\n",
       " *    - An explanation: Generally a plot showing the relation between the label\n",
       " *      and the condition to give insights about the effect of the condition.\n",
       " *\n",
       " *    - Two children : For non-leaf nodes, the children nodes. The first\n",
       " *      children (i.e. \"node.children[0]\") is the negative children (drawn in\n",
       " *      red). The second children is the positive one (drawn in green).\n",
       " *\n",
       " */\n",
       "\n",
       "/**\n",
       " * Plots a single decision tree into a DOM element.\n",
       " * @param {!options} options Dictionary of configurations.\n",
       " * @param {!tree} raw_tree Recursive tree structure.\n",
       " * @param {string} canvas_id Id of the output dom element.\n",
       " */\n",
       "function display_tree(options, raw_tree, canvas_id) {\n",
       "  console.log(options);\n",
       "\n",
       "  // Determine the node placement.\n",
       "  const tree_struct = d3.tree().nodeSize(\n",
       "      [options.node_y_offset, options.node_x_offset])(d3.hierarchy(raw_tree));\n",
       "\n",
       "  // Boundaries of the node placement.\n",
       "  let x_min = Infinity;\n",
       "  let x_max = -x_min;\n",
       "  let y_min = Infinity;\n",
       "  let y_max = -x_min;\n",
       "\n",
       "  tree_struct.each(d => {\n",
       "    if (d.x > x_max) x_max = d.x;\n",
       "    if (d.x < x_min) x_min = d.x;\n",
       "    if (d.y > y_max) y_max = d.y;\n",
       "    if (d.y < y_min) y_min = d.y;\n",
       "  });\n",
       "\n",
       "  // Size of the plot.\n",
       "  const width = y_max - y_min + options.node_x_size + options.margin * 2;\n",
       "  const height = x_max - x_min + options.node_y_size + options.margin * 2 +\n",
       "      options.node_y_offset - options.node_y_size;\n",
       "\n",
       "  const plot = d3.select(canvas_id);\n",
       "\n",
       "  // Tool tip\n",
       "  options.tooltip = plot.append('div')\n",
       "                        .attr('width', 100)\n",
       "                        .attr('height', 100)\n",
       "                        .style('padding', '4px')\n",
       "                        .style('background', '#fff')\n",
       "                        .style('box-shadow', '4px 4px 0px rgba(0,0,0,0.1)')\n",
       "                        .style('border', '1px solid black')\n",
       "                        .style('font-family', 'sans-serif')\n",
       "                        .style('font-size', options.font_size)\n",
       "                        .style('position', 'absolute')\n",
       "                        .style('z-index', '10')\n",
       "                        .attr('pointer-events', 'none')\n",
       "                        .style('display', 'none');\n",
       "\n",
       "  // Create canvas\n",
       "  const svg = plot.append('svg').attr('width', width).attr('height', height);\n",
       "  const graph =\n",
       "      svg.style('overflow', 'visible')\n",
       "          .append('g')\n",
       "          .attr('font-family', 'sans-serif')\n",
       "          .attr('font-size', options.font_size)\n",
       "          .attr(\n",
       "              'transform',\n",
       "              () => `translate(${options.margin},${\n",
       "                  - x_min + options.node_y_offset / 2 + options.margin})`);\n",
       "\n",
       "  // Plot bounding box.\n",
       "  if (options.show_plot_bounding_box) {\n",
       "    svg.append('rect')\n",
       "        .attr('width', width)\n",
       "        .attr('height', height)\n",
       "        .attr('fill', 'none')\n",
       "        .attr('stroke-width', 1.0)\n",
       "        .attr('stroke', 'black');\n",
       "  }\n",
       "\n",
       "  // Draw the edges.\n",
       "  display_edges(options, graph, tree_struct);\n",
       "\n",
       "  // Draw the nodes.\n",
       "  display_nodes(options, graph, tree_struct);\n",
       "}\n",
       "\n",
       "/**\n",
       " * Draw the nodes of the tree.\n",
       " * @param {!options} options Dictionary of configurations.\n",
       " * @param {!graph} graph D3 search handle containing the graph.\n",
       " * @param {!tree_struct} tree_struct Structure of the tree (node placement,\n",
       " *     data, etc.).\n",
       " */\n",
       "function display_nodes(options, graph, tree_struct) {\n",
       "  const nodes = graph.append('g')\n",
       "                    .selectAll('g')\n",
       "                    .data(tree_struct.descendants())\n",
       "                    .join('g')\n",
       "                    .attr('transform', d => `translate(${d.y},${d.x})`);\n",
       "\n",
       "  nodes.append('rect')\n",
       "      .attr('x', 0.5)\n",
       "      .attr('y', 0.5)\n",
       "      .attr('width', options.node_x_size)\n",
       "      .attr('height', options.node_y_size)\n",
       "      .attr('stroke', 'lightgrey')\n",
       "      .attr('stroke-width', 1)\n",
       "      .attr('fill', 'white')\n",
       "      .attr('y', -options.node_y_size / 2);\n",
       "\n",
       "  // Brackets on the right of condition nodes without children.\n",
       "  non_leaf_node_without_children =\n",
       "      nodes.filter(node => node.data.condition != null && node.children == null)\n",
       "          .append('g')\n",
       "          .attr('transform', `translate(${options.node_x_size},0)`);\n",
       "\n",
       "  non_leaf_node_without_children.append('path')\n",
       "      .attr('d', 'M0,0 C 10,0 0,10 10,10')\n",
       "      .attr('fill', 'none')\n",
       "      .attr('stroke-width', 1.0)\n",
       "      .attr('stroke', '#F00');\n",
       "\n",
       "  non_leaf_node_without_children.append('path')\n",
       "      .attr('d', 'M0,0 C 10,0 0,-10 10,-10')\n",
       "      .attr('fill', 'none')\n",
       "      .attr('stroke-width', 1.0)\n",
       "      .attr('stroke', '#0F0');\n",
       "\n",
       "  const node_content = nodes.append('g').attr(\n",
       "      'transform',\n",
       "      `translate(0,${options.node_padding - options.node_y_size / 2})`);\n",
       "\n",
       "  node_content.append(node => create_node_element(options, node));\n",
       "}\n",
       "\n",
       "/**\n",
       " * Creates the D3 content for a single node.\n",
       " * @param {!options} options Dictionary of configurations.\n",
       " * @param {!node} node Node to draw.\n",
       " * @return {!d3} D3 content.\n",
       " */\n",
       "function create_node_element(options, node) {\n",
       "  // Output accumulator.\n",
       "  let output = {\n",
       "    // Content to draw.\n",
       "    content: d3.create('svg:g'),\n",
       "    // Vertical offset to the next element to draw.\n",
       "    vertical_offset: 0\n",
       "  };\n",
       "\n",
       "  // Conditions.\n",
       "  if (node.data.condition != null) {\n",
       "    display_condition(options, node.data.condition, output);\n",
       "  }\n",
       "\n",
       "  // Values.\n",
       "  if (node.data.value != null) {\n",
       "    display_value(options, node.data.value, output);\n",
       "  }\n",
       "\n",
       "  // Explanations.\n",
       "  if (node.data.explanation != null) {\n",
       "    display_explanation(options, node.data.explanation, output);\n",
       "  }\n",
       "\n",
       "  return output.content.node();\n",
       "}\n",
       "\n",
       "\n",
       "/**\n",
       " * Adds a single line of text inside of a node.\n",
       " * @param {!options} options Dictionary of configurations.\n",
       " * @param {string} text Text to display.\n",
       " * @param {!output} output Output display accumulator.\n",
       " */\n",
       "function display_node_text(options, text, output) {\n",
       "  output.content.append('text')\n",
       "      .attr('x', options.node_padding)\n",
       "      .attr('y', output.vertical_offset)\n",
       "      .attr('alignment-baseline', 'hanging')\n",
       "      .text(text);\n",
       "  output.vertical_offset += 10;\n",
       "}\n",
       "\n",
       "/**\n",
       " * Adds a single line of text inside of a node with a tooltip.\n",
       " * @param {!options} options Dictionary of configurations.\n",
       " * @param {string} text Text to display.\n",
       " * @param {string} tooltip Text in the Tooltip.\n",
       " * @param {!output} output Output display accumulator.\n",
       " */\n",
       "function display_node_text_with_tooltip(options, text, tooltip, output) {\n",
       "  const item = output.content.append('text')\n",
       "                   .attr('x', options.node_padding)\n",
       "                   .attr('alignment-baseline', 'hanging')\n",
       "                   .text(text);\n",
       "\n",
       "  add_tooltip(options, item, () => tooltip);\n",
       "  output.vertical_offset += 10;\n",
       "}\n",
       "\n",
       "/**\n",
       " * Adds a tooltip to a dom element.\n",
       " * @param {!options} options Dictionary of configurations.\n",
       " * @param {!dom} target Dom element to equip with a tooltip.\n",
       " * @param {!func} get_content Generates the html content of the tooltip.\n",
       " */\n",
       "function add_tooltip(options, target, get_content) {\n",
       "  function show(d) {\n",
       "    options.tooltip.style('display', 'block');\n",
       "    options.tooltip.html(get_content());\n",
       "  }\n",
       "\n",
       "  function hide(d) {\n",
       "    options.tooltip.style('display', 'none');\n",
       "  }\n",
       "\n",
       "  function move(d) {\n",
       "    options.tooltip.style('display', 'block');\n",
       "    options.tooltip.style('left', (d.pageX + 5) + 'px');\n",
       "    options.tooltip.style('top', d.pageY + 'px');\n",
       "  }\n",
       "\n",
       "  target.on('mouseover', show);\n",
       "  target.on('mouseout', hide);\n",
       "  target.on('mousemove', move);\n",
       "}\n",
       "\n",
       "/**\n",
       " * Adds a condition inside of a node.\n",
       " * @param {!options} options Dictionary of configurations.\n",
       " * @param {!condition} condition Condition to display.\n",
       " * @param {!output} output Output display accumulator.\n",
       " */\n",
       "function display_condition(options, condition, output) {\n",
       "  threshold_format = d3.format('r');\n",
       "\n",
       "  if (condition.type === 'IS_MISSING') {\n",
       "    display_node_text(options, `${condition.attribute} is missing`, output);\n",
       "    return;\n",
       "  }\n",
       "\n",
       "  if (condition.type === 'IS_TRUE') {\n",
       "    display_node_text(options, `${condition.attribute} is true`, output);\n",
       "    return;\n",
       "  }\n",
       "\n",
       "  if (condition.type === 'NUMERICAL_IS_HIGHER_THAN') {\n",
       "    format = d3.format('r');\n",
       "    display_node_text(\n",
       "        options,\n",
       "        `${condition.attribute} >= ${threshold_format(condition.threshold)}`,\n",
       "        output);\n",
       "    return;\n",
       "  }\n",
       "\n",
       "  if (condition.type === 'CATEGORICAL_IS_IN') {\n",
       "    display_node_text_with_tooltip(\n",
       "        options, `${condition.attribute} in [...]`,\n",
       "        `${condition.attribute} in [${condition.mask}]`, output);\n",
       "    return;\n",
       "  }\n",
       "\n",
       "  if (condition.type === 'CATEGORICAL_SET_CONTAINS') {\n",
       "    display_node_text_with_tooltip(\n",
       "        options, `${condition.attribute} intersect [...]`,\n",
       "        `${condition.attribute} intersect [${condition.mask}]`, output);\n",
       "    return;\n",
       "  }\n",
       "\n",
       "  if (condition.type === 'NUMERICAL_SPARSE_OBLIQUE') {\n",
       "    display_node_text_with_tooltip(\n",
       "        options, `Sparse oblique split...`,\n",
       "        `[${condition.attributes}]*[${condition.weights}]>=${\n",
       "            threshold_format(condition.threshold)}`,\n",
       "        output);\n",
       "    return;\n",
       "  }\n",
       "\n",
       "  display_node_text(\n",
       "      options, `Non supported condition ${condition.type}`, output);\n",
       "}\n",
       "\n",
       "/**\n",
       " * Adds a value inside of a node.\n",
       " * @param {!options} options Dictionary of configurations.\n",
       " * @param {!value} value Value to display.\n",
       " * @param {!output} output Output display accumulator.\n",
       " */\n",
       "function display_value(options, value, output) {\n",
       "  if (value.type === 'PROBABILITY') {\n",
       "    const left_margin = 0;\n",
       "    const right_margin = 50;\n",
       "    const plot_width = options.node_x_size - options.node_padding * 2 -\n",
       "        left_margin - right_margin;\n",
       "\n",
       "    let cusum = Array.from(d3.cumsum(value.distribution));\n",
       "    cusum.unshift(0);\n",
       "    const distribution_plot = output.content.append('g').attr(\n",
       "        'transform', `translate(0,${output.vertical_offset + 0.5})`);\n",
       "\n",
       "    distribution_plot.selectAll('rect')\n",
       "        .data(value.distribution)\n",
       "        .join('rect')\n",
       "        .attr('height', 10)\n",
       "        .attr(\n",
       "            'x',\n",
       "            (d, i) =>\n",
       "                (cusum[i] * plot_width + left_margin + options.node_padding))\n",
       "        .attr('width', (d, i) => d * plot_width)\n",
       "        .style('fill', (d, i) => d3.schemeSet1[i]);\n",
       "\n",
       "    const num_examples =\n",
       "        output.content.append('g')\n",
       "            .attr('transform', `translate(0,${output.vertical_offset})`)\n",
       "            .append('text')\n",
       "            .attr('x', options.node_x_size - options.node_padding)\n",
       "            .attr('alignment-baseline', 'hanging')\n",
       "            .attr('text-anchor', 'end')\n",
       "            .text(`(${value.num_examples})`);\n",
       "\n",
       "    const distribution_details = d3.create('ul');\n",
       "    distribution_details.selectAll('li')\n",
       "        .data(value.distribution)\n",
       "        .join('li')\n",
       "        .append('span')\n",
       "        .text(\n",
       "            (d, i) =>\n",
       "                'class ' + i + ': ' + d3.format('.3%')(value.distribution[i]));\n",
       "\n",
       "    add_tooltip(options, distribution_plot, () => distribution_details.html());\n",
       "    add_tooltip(options, num_examples, () => 'Number of examples');\n",
       "\n",
       "    output.vertical_offset += 10;\n",
       "    return;\n",
       "  }\n",
       "\n",
       "  if (value.type === 'REGRESSION') {\n",
       "    display_node_text(\n",
       "        options,\n",
       "        'value: ' + d3.format('r')(value.value) + ` (` +\n",
       "            d3.format('.6')(value.num_examples) + `)`,\n",
       "        output);\n",
       "    return;\n",
       "  }\n",
       "\n",
       "  display_node_text(options, `Non supported value ${value.type}`, output);\n",
       "}\n",
       "\n",
       "/**\n",
       " * Adds an explanation inside of a node.\n",
       " * @param {!options} options Dictionary of configurations.\n",
       " * @param {!explanation} explanation Explanation to display.\n",
       " * @param {!output} output Output display accumulator.\n",
       " */\n",
       "function display_explanation(options, explanation, output) {\n",
       "  // Margin before the explanation.\n",
       "  output.vertical_offset += 10;\n",
       "\n",
       "  display_node_text(\n",
       "      options, `Non supported explanation ${explanation.type}`, output);\n",
       "}\n",
       "\n",
       "\n",
       "/**\n",
       " * Draw the edges of the tree.\n",
       " * @param {!options} options Dictionary of configurations.\n",
       " * @param {!graph} graph D3 search handle containing the graph.\n",
       " * @param {!tree_struct} tree_struct Structure of the tree (node placement,\n",
       " *     data, etc.).\n",
       " */\n",
       "function display_edges(options, graph, tree_struct) {\n",
       "  // Draw an edge between a parent and a child node with a bezier.\n",
       "  function draw_single_edge(d) {\n",
       "    return 'M' + (d.source.y + options.node_x_size) + ',' + d.source.x + ' C' +\n",
       "        (d.source.y + options.node_x_size + options.edge_rounding) + ',' +\n",
       "        d.source.x + ' ' + (d.target.y - options.edge_rounding) + ',' +\n",
       "        d.target.x + ' ' + d.target.y + ',' + d.target.x;\n",
       "  }\n",
       "\n",
       "  graph.append('g')\n",
       "      .attr('fill', 'none')\n",
       "      .attr('stroke-width', 1.2)\n",
       "      .selectAll('path')\n",
       "      .data(tree_struct.links())\n",
       "      .join('path')\n",
       "      .attr('d', draw_single_edge)\n",
       "      .attr(\n",
       "          'stroke', d => (d.target === d.source.children[0]) ? '#0F0' : '#F00');\n",
       "}\n",
       "\n",
       "display_tree({\"margin\": 10, \"node_x_size\": 160, \"node_y_size\": 28, \"node_x_offset\": 180, \"node_y_offset\": 33, \"font_size\": 10, \"edge_rounding\": 20, \"node_padding\": 2, \"show_plot_bounding_box\": false}, {\"value\": {\"type\": \"REGRESSION\", \"value\": 3.974930606887028e-09, \"num_examples\": 6298.0, \"standard_deviation\": 0.49999838230574567}, \"condition\": {\"type\": \"NUMERICAL_SPARSE_OBLIQUE\", \"attributes\": [\"CryoSleep\", \"Spa\", \"VIP\"], \"weights\": [1.0, 4.4626918679568917e-05, -1.0], \"threshold\": 0.8702695369720459}, \"children\": [{\"value\": {\"type\": \"REGRESSION\", \"value\": 0.12830786406993866, \"num_examples\": 2169.0, \"standard_deviation\": 0.38248091154554}, \"condition\": {\"type\": \"CATEGORICAL_IS_IN\", \"attribute\": \"Deck\", \"mask\": [\"F\", \"B\", \"C\", \"D\"]}, \"children\": [{\"value\": {\"type\": \"REGRESSION\", \"value\": 0.19067242741584778, \"num_examples\": 1043.0, \"standard_deviation\": 0.1468519282628319}, \"condition\": {\"type\": \"CATEGORICAL_IS_IN\", \"attribute\": \"HomePlanet\", \"mask\": [\"Earth\"]}, \"children\": [{\"value\": {\"type\": \"REGRESSION\", \"value\": 0.09949254244565964, \"num_examples\": 60.0, \"standard_deviation\": 0.4330126970765505}}, {\"value\": {\"type\": \"REGRESSION\", \"value\": 0.19623783230781555, \"num_examples\": 983.0, \"standard_deviation\": 0.0898449499984324}}]}, {\"value\": {\"type\": \"REGRESSION\", \"value\": 0.07054031640291214, \"num_examples\": 1126.0, \"standard_deviation\": 0.4673876007000097}, \"condition\": {\"type\": \"CATEGORICAL_IS_IN\", \"attribute\": \"HomePlanet\", \"mask\": [\"Earth\", \"Mars\"]}, \"children\": [{\"value\": {\"type\": \"REGRESSION\", \"value\": 0.06208772584795952, \"num_examples\": 1048.0, \"standard_deviation\": 0.47488033194465207}, \"condition\": {\"type\": \"CATEGORICAL_IS_IN\", \"attribute\": \"Cabin_num\", \"mask\": [\"<OOD>\", \"176\", \"56\", \"59\", \"186\", \"150\", \"144\", \"65\", \"50\", \"175\", \"9\", \"20\", \"187\", \"183\", \"16\", \"81\", \"66\", \"62\", \"37\", \"27\", \"230\", \"127\", \"115\", \"55\", \"38\", \"250\", \"206\", \"193\", \"189\", \"145\", \"133\", \"99\", \"981\", \"76\", \"74\", \"330\", \"323\", \"319\", \"281\", \"270\", \"220\", \"217\", \"209\", \"196\", \"185\", \"149\", \"1476\", \"142\", \"1411\", \"1046\", \"93\", \"32\", \"289\", \"285\", \"272\", \"268\", \"263\", \"262\", \"215\", \"135\", \"134\", \"130\", \"1194\", \"10\", \"765\", \"533\", \"505\", \"377\", \"299\", \"292\", \"255\", \"252\", \"194\", \"173\", \"159\", \"147\", \"146\", \"122\", \"112\", \"101\", \"916\", \"872\", \"734\", \"7\", \"36\", \"324\", \"312\", \"219\", \"204\", \"148\", \"1319\", \"1267\", \"1023\", \"961\", \"903\", \"857\", \"856\", \"838\", \"698\", \"657\", \"577\", \"546\", \"537\", \"516\", \"499\", \"467\", \"431\", \"423\", \"391\", \"390\", \"302\", \"296\", \"293\", \"256\", \"154\", \"1455\", \"1339\", \"1313\", \"1278\", \"1050\", \"1037\", \"1026\", \"975\", \"935\", \"922\", \"920\", \"829\", \"814\", \"799\", \"725\", \"691\", \"636\", \"601\", \"595\", \"588\", \"580\", \"564\", \"558\", \"510\", \"500\", \"492\", \"488\", \"485\", \"454\", \"442\", \"347\", \"335\", \"327\", \"318\", \"191\", \"1453\", \"139\", \"1364\", \"1289\", \"1268\", \"1146\", \"114\", \"1137\", \"1131\", \"1073\", \"1061\", \"1047\"]}}, {\"value\": {\"type\": \"REGRESSION\", \"value\": 0.18410848081111908, \"num_examples\": 78.0, \"standard_deviation\": 0.19230768146441407}}]}]}, {\"value\": {\"type\": \"REGRESSION\", \"value\": -0.06740123778581619, \"num_examples\": 4129.0, \"standard_deviation\": 0.4712043390895602}, \"condition\": {\"type\": \"NUMERICAL_SPARSE_OBLIQUE\", \"attributes\": [\"Spa\"], \"weights\": [1.0], \"threshold\": 291.5}, \"children\": [{\"value\": {\"type\": \"REGRESSION\", \"value\": -0.13532377779483795, \"num_examples\": 1080.0, \"standard_deviation\": 0.3693318717560176}, \"condition\": {\"type\": \"NUMERICAL_SPARSE_OBLIQUE\", \"attributes\": [\"FoodCourt\"], \"weights\": [1.0], \"threshold\": 1407.0}, \"children\": [{\"value\": {\"type\": \"REGRESSION\", \"value\": -0.05456249788403511, \"num_examples\": 222.0, \"standard_deviation\": 0.4813922424401096}, \"condition\": {\"type\": \"NUMERICAL_SPARSE_OBLIQUE\", \"attributes\": [\"RoomService\", \"Spa\"], \"weights\": [-6.979828322073445e-05, -4.4626918679568917e-05], \"threshold\": -0.05165565758943558}}, {\"value\": {\"type\": \"REGRESSION\", \"value\": -0.15622006356716156, \"num_examples\": 858.0, \"standard_deviation\": 0.3137883204118478}, \"condition\": {\"type\": \"NUMERICAL_SPARSE_OBLIQUE\", \"attributes\": [\"ShoppingMall\"], \"weights\": [1.0], \"threshold\": 1746.0}}]}, {\"value\": {\"type\": \"REGRESSION\", \"value\": -0.043342091143131256, \"num_examples\": 3049.0, \"standard_deviation\": 0.48839835245366586}, \"condition\": {\"type\": \"NUMERICAL_SPARSE_OBLIQUE\", \"attributes\": [\"VIP\", \"VRDeck\"], \"weights\": [1.0, 4.917387923342176e-05], \"threshold\": 0.004843627102673054}, \"children\": [{\"value\": {\"type\": \"REGRESSION\", \"value\": -0.09951470047235489, \"num_examples\": 1006.0, \"standard_deviation\": 0.43443798739460926}, \"condition\": {\"type\": \"NUMERICAL_SPARSE_OBLIQUE\", \"attributes\": [\"FoodCourt\", \"Spa\"], \"weights\": [3.354241562192328e-05, -4.4626918679568917e-05], \"threshold\": 0.07063944637775421}}, {\"value\": {\"type\": \"REGRESSION\", \"value\": -0.015681957826018333, \"num_examples\": 2043.0, \"standard_deviation\": 0.4985588995833091}, \"condition\": {\"type\": \"NUMERICAL_SPARSE_OBLIQUE\", \"attributes\": [\"FoodCourt\", \"RoomService\", \"Spa\"], \"weights\": [-3.354241562192328e-05, 6.979828322073445e-05, 4.4626918679568917e-05], \"threshold\": 0.010617967694997787}}]}]}]}, \"#tree_plot_2446b4487a874f3695f36c8b2dfc6d66\")\n",
       "</script>\n"
      ],
      "text/plain": [
       "<IPython.core.display.HTML object>"
      ]
     },
     "execution_count": 18,
     "metadata": {},
     "output_type": "execute_result"
    }
   ],
   "source": [
    "tfdf.model_plotter.plot_model_in_colab(rf, tree_idx=0, max_depth=3)"
   ]
  },
  {
   "cell_type": "code",
   "execution_count": 19,
   "id": "41feb696",
   "metadata": {
    "execution": {
     "iopub.execute_input": "2023-06-24T15:14:59.939025Z",
     "iopub.status.busy": "2023-06-24T15:14:59.938578Z",
     "iopub.status.idle": "2023-06-24T15:15:00.231364Z",
     "shell.execute_reply": "2023-06-24T15:15:00.230177Z"
    },
    "papermill": {
     "duration": 0.31711,
     "end_time": "2023-06-24T15:15:00.234179",
     "exception": false,
     "start_time": "2023-06-24T15:14:59.917069",
     "status": "completed"
    },
    "tags": []
   },
   "outputs": [
    {
     "data": {
      "image/png": "[encoded data removed]",
      "text/plain": [
       "<Figure size 640x480 with 1 Axes>"
      ]
     },
     "metadata": {},
     "output_type": "display_data"
    }
   ],
   "source": [
    "import matplotlib.pyplot as plt\n",
    "logs = rf.make_inspector().training_logs()\n",
    "plt.plot([log.num_trees for log in logs], [log.evaluation.accuracy for log in logs])\n",
    "plt.xlabel(\"Number of trees\")\n",
    "plt.ylabel(\"Accuracy (out-of-bag)\")\n",
    "plt.show()"
   ]
  },
  {
   "cell_type": "code",
   "execution_count": 20,
   "id": "e3dfd7b3",
   "metadata": {
    "execution": {
     "iopub.execute_input": "2023-06-24T15:15:00.269629Z",
     "iopub.status.busy": "2023-06-24T15:15:00.268949Z",
     "iopub.status.idle": "2023-06-24T15:15:00.277468Z",
     "shell.execute_reply": "2023-06-24T15:15:00.276626Z"
    },
    "papermill": {
     "duration": 0.029266,
     "end_time": "2023-06-24T15:15:00.279935",
     "exception": false,
     "start_time": "2023-06-24T15:15:00.250669",
     "status": "completed"
    },
    "tags": []
   },
   "outputs": [
    {
     "data": {
      "text/plain": [
       "Evaluation(num_examples=None, accuracy=0.7877907156944275, loss=0.8775813579559326, rmse=None, ndcg=None, aucs=None, auuc=None, qini=None)"
      ]
     },
     "execution_count": 20,
     "metadata": {},
     "output_type": "execute_result"
    }
   ],
   "source": [
    "inspector = rf.make_inspector()\n",
    "inspector.evaluation()"
   ]
  },
  {
   "cell_type": "code",
   "execution_count": 21,
   "id": "7928641f",
   "metadata": {
    "execution": {
     "iopub.execute_input": "2023-06-24T15:15:00.316213Z",
     "iopub.status.busy": "2023-06-24T15:15:00.315567Z",
     "iopub.status.idle": "2023-06-24T15:15:00.982917Z",
     "shell.execute_reply": "2023-06-24T15:15:00.981486Z"
    },
    "papermill": {
     "duration": 0.688404,
     "end_time": "2023-06-24T15:15:00.985423",
     "exception": false,
     "start_time": "2023-06-24T15:15:00.297019",
     "status": "completed"
    },
    "tags": []
   },
   "outputs": [
    {
     "name": "stdout",
     "output_type": "stream",
     "text": [
      "2/2 [==============================] - 1s 30ms/step - loss: 0.0000e+00 - accuracy: 0.7914\n",
      "loss: 0.0000\n",
      "accuracy: 0.7914\n"
     ]
    }
   ],
   "source": [
    "evaluation = rf.evaluate(x=valid_ds,return_dict=True)\n",
    "\n",
    "for name, value in evaluation.items():\n",
    "  print(f\"{name}: {value:.4f}\")"
   ]
  },
  {
   "cell_type": "code",
   "execution_count": 22,
   "id": "eadcb658",
   "metadata": {
    "execution": {
     "iopub.execute_input": "2023-06-24T15:15:01.029413Z",
     "iopub.status.busy": "2023-06-24T15:15:01.028247Z",
     "iopub.status.idle": "2023-06-24T15:15:01.035853Z",
     "shell.execute_reply": "2023-06-24T15:15:01.034122Z"
    },
    "papermill": {
     "duration": 0.029481,
     "end_time": "2023-06-24T15:15:01.038374",
     "exception": false,
     "start_time": "2023-06-24T15:15:01.008893",
     "status": "completed"
    },
    "tags": []
   },
   "outputs": [
    {
     "name": "stdout",
     "output_type": "stream",
     "text": [
      "Available variable importances:\n",
      "\t NUM_NODES\n",
      "\t NUM_AS_ROOT\n",
      "\t SUM_SCORE\n",
      "\t INV_MEAN_MIN_DEPTH\n"
     ]
    }
   ],
   "source": [
    "print(f\"Available variable importances:\")\n",
    "for importance in inspector.variable_importances().keys():\n",
    "  print(\"\\t\", importance)"
   ]
  },
  {
   "cell_type": "code",
   "execution_count": 23,
   "id": "224b9f17",
   "metadata": {
    "execution": {
     "iopub.execute_input": "2023-06-24T15:15:01.101161Z",
     "iopub.status.busy": "2023-06-24T15:15:01.100748Z",
     "iopub.status.idle": "2023-06-24T15:15:01.110294Z",
     "shell.execute_reply": "2023-06-24T15:15:01.108912Z"
    },
    "papermill": {
     "duration": 0.047535,
     "end_time": "2023-06-24T15:15:01.112778",
     "exception": false,
     "start_time": "2023-06-24T15:15:01.065243",
     "status": "completed"
    },
    "tags": []
   },
   "outputs": [
    {
     "data": {
      "text/plain": [
       "[(\"CryoSleep\" (1; #2), 20.0),\n",
       " (\"RoomService\" (1; #7), 9.0),\n",
       " (\"FoodCourt\" (1; #5), 6.0),\n",
       " (\"Spa\" (1; #10), 6.0),\n",
       " (\"Age\" (1; #0), 4.0),\n",
       " (\"ShoppingMall\" (1; #8), 2.0),\n",
       " (\"Side\" (4; #9), 2.0),\n",
       " (\"VRDeck\" (1; #12), 2.0)]"
      ]
     },
     "execution_count": 23,
     "metadata": {},
     "output_type": "execute_result"
    }
   ],
   "source": [
    "inspector.variable_importances()[\"NUM_AS_ROOT\"]"
   ]
  },
  {
   "cell_type": "markdown",
   "id": "cf125f71",
   "metadata": {
    "papermill": {
     "duration": 0.029214,
     "end_time": "2023-06-24T15:15:01.167220",
     "exception": false,
     "start_time": "2023-06-24T15:15:01.138006",
     "status": "completed"
    },
    "tags": []
   },
   "source": [
    "# Conclusion\n",
    "In conclusion, the Spaceship Titanic Kaggle project presented an exciting opportunity to explore the predictive power of deep learning and the Keras library in solving the task of passenger survival prediction. By carefully preprocessing the dataset, conducting exploratory data analysis, and engineering informative features, we were able to build a robust model using deep learning principles. Through iterative model development, hyperparameter tuning, and architecture optimization, we achieved competitive results in predicting passenger survival. The TensorFlow Decision Forests Gradient Boosted Trees model proved to be a valuable addition to our analysis, offering interpretability and insights into feature importance. The project provided valuable lessons in data preprocessing, model selection, and performance evaluation. Overall, this endeavor demonstrated the potential of deep learning techniques and showcased the power of the Kaggle platform in fostering collaborative problem-solving and pushing the boundaries of machine learning."
   ]
  },
  {
   "cell_type": "code",
   "execution_count": 24,
   "id": "c39e8510",
   "metadata": {
    "execution": {
     "iopub.execute_input": "2023-06-24T15:15:01.225424Z",
     "iopub.status.busy": "2023-06-24T15:15:01.224884Z",
     "iopub.status.idle": "2023-06-24T15:15:01.622540Z",
     "shell.execute_reply": "2023-06-24T15:15:01.621199Z"
    },
    "papermill": {
     "duration": 0.424704,
     "end_time": "2023-06-24T15:15:01.625495",
     "exception": false,
     "start_time": "2023-06-24T15:15:01.200791",
     "status": "completed"
    },
    "tags": []
   },
   "outputs": [
    {
     "name": "stdout",
     "output_type": "stream",
     "text": [
      "5/5 [==============================] - 0s 11ms/step\n"
     ]
    },
    {
     "data": {
      "text/html": [
       "<div>\n",
       "<style scoped>\n",
       "    .dataframe tbody tr th:only-of-type {\n",
       "        vertical-align: middle;\n",
       "    }\n",
       "\n",
       "    .dataframe tbody tr th {\n",
       "        vertical-align: top;\n",
       "    }\n",
       "\n",
       "    .dataframe thead th {\n",
       "        text-align: right;\n",
       "    }\n",
       "</style>\n",
       "<table border=\"1\" class=\"dataframe\">\n",
       "  <thead>\n",
       "    <tr style=\"text-align: right;\">\n",
       "      <th></th>\n",
       "      <th>PassengerId</th>\n",
       "      <th>Transported</th>\n",
       "    </tr>\n",
       "  </thead>\n",
       "  <tbody>\n",
       "    <tr>\n",
       "      <th>0</th>\n",
       "      <td>0013_01</td>\n",
       "      <td>True</td>\n",
       "    </tr>\n",
       "    <tr>\n",
       "      <th>1</th>\n",
       "      <td>0018_01</td>\n",
       "      <td>False</td>\n",
       "    </tr>\n",
       "    <tr>\n",
       "      <th>2</th>\n",
       "      <td>0019_01</td>\n",
       "      <td>True</td>\n",
       "    </tr>\n",
       "    <tr>\n",
       "      <th>3</th>\n",
       "      <td>0021_01</td>\n",
       "      <td>True</td>\n",
       "    </tr>\n",
       "    <tr>\n",
       "      <th>4</th>\n",
       "      <td>0023_01</td>\n",
       "      <td>True</td>\n",
       "    </tr>\n",
       "  </tbody>\n",
       "</table>\n",
       "</div>"
      ],
      "text/plain": [
       "  PassengerId  Transported\n",
       "0     0013_01         True\n",
       "1     0018_01        False\n",
       "2     0019_01         True\n",
       "3     0021_01         True\n",
       "4     0023_01         True"
      ]
     },
     "execution_count": 24,
     "metadata": {},
     "output_type": "execute_result"
    }
   ],
   "source": [
    "# Load the test dataset\n",
    "test_df = pd.read_csv('/kaggle/input/spaceship-titanic/test.csv')\n",
    "submission_id = test_df.PassengerId\n",
    "\n",
    "# Replace NaN values with zero\n",
    "test_df[['VIP', 'CryoSleep']] = test_df[['VIP', 'CryoSleep']].fillna(value=0)\n",
    "\n",
    "# Creating New Features - Deck, Cabin_num and Side from the column Cabin and remove Cabin\n",
    "test_df[[\"Deck\", \"Cabin_num\", \"Side\"]] = test_df[\"Cabin\"].str.split(\"/\", expand=True)\n",
    "test_df = test_df.drop('Cabin', axis=1)\n",
    "\n",
    "# Convert boolean to 1's and 0's\n",
    "test_df['VIP'] = test_df['VIP'].astype(int)\n",
    "test_df['CryoSleep'] = test_df['CryoSleep'].astype(int)\n",
    "\n",
    "# Convert pd dataframe to tf dataset\n",
    "test_ds = tfdf.keras.pd_dataframe_to_tf_dataset(test_df)\n",
    "\n",
    "# Get the predictions for testdata\n",
    "predictions = rf.predict(test_ds)\n",
    "n_predictions = (predictions > 0.5).astype(bool)\n",
    "output = pd.DataFrame({'PassengerId': submission_id,\n",
    "                       'Transported': n_predictions.squeeze()})\n",
    "\n",
    "output.head()"
   ]
  },
  {
   "cell_type": "code",
   "execution_count": 25,
   "id": "961fbabf",
   "metadata": {
    "execution": {
     "iopub.execute_input": "2023-06-24T15:15:01.666131Z",
     "iopub.status.busy": "2023-06-24T15:15:01.665699Z",
     "iopub.status.idle": "2023-06-24T15:15:01.705111Z",
     "shell.execute_reply": "2023-06-24T15:15:01.703835Z"
    },
    "papermill": {
     "duration": 0.062299,
     "end_time": "2023-06-24T15:15:01.707764",
     "exception": false,
     "start_time": "2023-06-24T15:15:01.645465",
     "status": "completed"
    },
    "tags": []
   },
   "outputs": [
    {
     "data": {
      "text/html": [
       "<div>\n",
       "<style scoped>\n",
       "    .dataframe tbody tr th:only-of-type {\n",
       "        vertical-align: middle;\n",
       "    }\n",
       "\n",
       "    .dataframe tbody tr th {\n",
       "        vertical-align: top;\n",
       "    }\n",
       "\n",
       "    .dataframe thead th {\n",
       "        text-align: right;\n",
       "    }\n",
       "</style>\n",
       "<table border=\"1\" class=\"dataframe\">\n",
       "  <thead>\n",
       "    <tr style=\"text-align: right;\">\n",
       "      <th></th>\n",
       "      <th>PassengerId</th>\n",
       "      <th>Transported</th>\n",
       "    </tr>\n",
       "  </thead>\n",
       "  <tbody>\n",
       "    <tr>\n",
       "      <th>0</th>\n",
       "      <td>0013_01</td>\n",
       "      <td>True</td>\n",
       "    </tr>\n",
       "    <tr>\n",
       "      <th>1</th>\n",
       "      <td>0018_01</td>\n",
       "      <td>False</td>\n",
       "    </tr>\n",
       "    <tr>\n",
       "      <th>2</th>\n",
       "      <td>0019_01</td>\n",
       "      <td>True</td>\n",
       "    </tr>\n",
       "    <tr>\n",
       "      <th>3</th>\n",
       "      <td>0021_01</td>\n",
       "      <td>True</td>\n",
       "    </tr>\n",
       "    <tr>\n",
       "      <th>4</th>\n",
       "      <td>0023_01</td>\n",
       "      <td>True</td>\n",
       "    </tr>\n",
       "  </tbody>\n",
       "</table>\n",
       "</div>"
      ],
      "text/plain": [
       "  PassengerId  Transported\n",
       "0     0013_01         True\n",
       "1     0018_01        False\n",
       "2     0019_01         True\n",
       "3     0021_01         True\n",
       "4     0023_01         True"
      ]
     },
     "execution_count": 25,
     "metadata": {},
     "output_type": "execute_result"
    }
   ],
   "source": [
    "sample_submission_df = pd.read_csv('/kaggle/input/spaceship-titanic/sample_submission.csv')\n",
    "sample_submission_df['Transported'] = n_predictions\n",
    "sample_submission_df.to_csv('/kaggle/working/submission.csv', index=False)\n",
    "sample_submission_df.head()"
   ]
  }
 ],
 "metadata": {
  "kernelspec": {
   "display_name": "Python 3",
   "language": "python",
   "name": "python3"
  },
  "language_info": {
   "codemirror_mode": {
    "name": "ipython",
    "version": 3
   },
   "file_extension": ".py",
   "mimetype": "text/x-python",
   "name": "python",
   "nbconvert_exporter": "python",
   "pygments_lexer": "ipython3",
   "version": "3.10.10"
  },
  "papermill": {
   "default_parameters": {},
   "duration": 93.787487,
   "end_time": "2023-06-24T15:15:05.066796",
   "environment_variables": {},
   "exception": null,
   "input_path": "__notebook__.ipynb",
   "output_path": "__notebook__.ipynb",
   "parameters": {},
   "start_time": "2023-06-24T15:13:31.279309",
   "version": "2.4.0"
  }
 },
 "nbformat": 4,
 "nbformat_minor": 5
}
